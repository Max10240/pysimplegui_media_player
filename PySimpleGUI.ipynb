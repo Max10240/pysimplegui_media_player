{
 "cells": [
  {
   "cell_type": "markdown",
   "metadata": {},
   "source": [
    "# PySimpleGUI"
   ]
  },
  {
   "cell_type": "markdown",
   "metadata": {},
   "source": [
    "## Once Window"
   ]
  },
  {
   "cell_type": "code",
   "execution_count": null,
   "metadata": {
    "ExecuteTime": {
     "end_time": "2019-11-11T01:52:37.144100Z",
     "start_time": "2019-11-11T01:52:37.081602Z"
    }
   },
   "outputs": [],
   "source": [
    "import PySimpleGUI as sg\n",
    "import time\n",
    "from time import sleep\n"
   ]
  },
  {
   "cell_type": "code",
   "execution_count": null,
   "metadata": {
    "ExecuteTime": {
     "end_time": "2019-11-11T08:43:55.463765Z",
     "start_time": "2019-11-11T08:43:32.236980Z"
    }
   },
   "outputs": [],
   "source": [
    "sg.ChangeLookAndFeel('GreenTan')\n",
    "\n",
    "form = sg.FlexForm('Everything bagel', default_element_size=(40, 1))\n",
    "\n",
    "column1 = [[\n",
    "    sg.Text('Column 1', justification='center', size=(10, 1)),\n",
    "    sg.Spin(values=('Spin Box 1', '2', '3'), initial_value='Spin Box 1',background_color='#b73226'),\n",
    "    sg.Spin(values=('Spin Box 1', '2', '3'), initial_value='Spin Box 2'),\n",
    "    sg.Spin(values=('Spin Box 1', '2', '3'), initial_value='Spin Box 3')\n",
    "]]\n",
    "layout = [\n",
    "    [\n",
    "        sg.Text('All graphic widgets in one form!',\n",
    "                size=(30, 1),\n",
    "                font=(\"Helvetica\", 25),\n",
    "                key='123')\n",
    "    ],\n",
    "    [sg.Text('Here is some text.... and a place to enter text')],\n",
    "    [sg.InputText('This is my text', key='234')],\n",
    "    [\n",
    "        sg.Checkbox('My first checkbox!'),\n",
    "        sg.Checkbox('My second checkbox!', default=True)\n",
    "    ],\n",
    "    [\n",
    "        sg.Radio('My first Radio!     ', \"RADIO1\", default=True),\n",
    "        sg.Radio('My second Radio!', \"RADIO1\")\n",
    "    ],\n",
    "    [\n",
    "        sg.Multiline(\n",
    "            default_text=\n",
    "            'This is the default Text should you decide not to type anything',\n",
    "            size=(35, 3)),\n",
    "        sg.Multiline(default_text='A second multi-line', size=(35, 3))\n",
    "    ],\n",
    "    [\n",
    "        sg.InputCombo(('Combobox 1', 'Combobox 2'),\n",
    "                      default_value='Combobox 1',\n",
    "                      size=(20, 3)),  #sg.InputCombo()\n",
    "        sg.Slider(range=(1, 100),\n",
    "                  orientation='h',\n",
    "                  size=(34, 20),\n",
    "                  default_value=85)\n",
    "    ],\n",
    "    [\n",
    "        sg.Listbox(values=('Listbox 1', 'Listbox 2', 'Listbox 3'),\n",
    "                   size=(30, 3)),\n",
    "        sg.Slider(range=(1, 100),\n",
    "                  orientation='v',\n",
    "                  size=(5, 20),\n",
    "                  default_value=25),\n",
    "        sg.Slider(range=(1, 100),\n",
    "                  orientation='v',\n",
    "                  size=(5, 20),\n",
    "                  default_value=75),\n",
    "        sg.Slider(range=(1, 100),\n",
    "                  orientation='v',\n",
    "                  size=(5, 20),\n",
    "                  default_value=10),\n",
    "        sg.Column(column1, background_color='#b73226')\n",
    "    ],\n",
    "    [sg.Text('_' * 80)],\n",
    "    [sg.Text('Choose A Folder', size=(35, 1))],\n",
    "    [\n",
    "        sg.Text('Your Folder',\n",
    "                size=(15, 1),\n",
    "                auto_size_text=False,\n",
    "                justification='right'),\n",
    "        sg.InputText('Default Folder'),\n",
    "        sg.FolderBrowse()\n",
    "    ],\n",
    "    [sg.Submit(), sg.Cancel()]\n",
    "]\n",
    "\n",
    "window = sg.Window('Window that stays open', layout)\n",
    "while True:\n",
    "    event, values = window.Read()\n",
    "    if event is None or event == 'Exit':\n",
    "        break\n",
    "    print(event, values[0])\n",
    "window.Close()\n",
    "# button, values = form.LayoutAndRead(layout)\n",
    "# button, values = form.Layout(layout).Read()\n",
    "# sg.Popup(button, values)"
   ]
  },
  {
   "cell_type": "markdown",
   "metadata": {
    "ExecuteTime": {
     "end_time": "2019-11-10T05:17:04.188661Z",
     "start_time": "2019-11-10T05:17:04.179228Z"
    }
   },
   "source": [
    "## 播放gif,键盘事件, 图片绑定事件"
   ]
  },
  {
   "cell_type": "code",
   "execution_count": null,
   "metadata": {
    "ExecuteTime": {
     "end_time": "2019-11-11T16:16:51.894063Z",
     "start_time": "2019-11-11T16:16:27.416445Z"
    }
   },
   "outputs": [],
   "source": [
    "import PySimpleGUI as sg\n",
    "import time\n",
    "from time import sleep\n",
    "\n",
    "layout = [[sg.Text('My one-shot window.')], [sg.InputText()],\n",
    "          [sg.Image('/root/Download/del/h1.gif',key='111',background_color='white',enable_events=True)],\n",
    "          [sg.Submit(), sg.Cancel()]]\n",
    "\n",
    "window = sg.Window('Window Title', layout,return_keyboard_events=True,size=(1100,700))\n",
    "while 1:\n",
    "    event, values = window.Read(timeout=100)\n",
    "    if event != '__TIMEOUT__' :\n",
    "        print(event,type(event))\n",
    "        \n",
    "    window.FindElement('111').UpdateAnimation('/root/Download/del/h1.gif',time_between_frames=1)\n",
    "    if event==None:break\n",
    "window.Close()  # 切记"
   ]
  },
  {
   "cell_type": "markdown",
   "metadata": {},
   "source": [
    "## 滑条值变化后立马刷新循环"
   ]
  },
  {
   "cell_type": "code",
   "execution_count": null,
   "metadata": {
    "ExecuteTime": {
     "end_time": "2019-11-10T07:09:10.580699Z",
     "start_time": "2019-11-10T07:08:57.491604Z"
    }
   },
   "outputs": [],
   "source": [
    "import PySimpleGUI as sg\n",
    "fontSize = 12\n",
    "layout = [[sg.Spin([sz for sz in range(6, 172)], font=('Helvetica 20'), initial_value=fontSize, change_submits=True, key='spin'),\n",
    "           sg.Slider(range=(6,172), orientation='h', size=(10,20),\n",
    "           change_submits=True, key='slider', font=('Helvetica 20')),\n",
    "           sg.Text(\"Aa\", size=(2, 1), font=\"Helvetica \"  + str(fontSize), key='text')]]\n",
    "\n",
    "sz = fontSize\n",
    "window = sg.Window(\"Font size selector\", layout, grab_anywhere=False)\n",
    "# Event Loop\n",
    "while True:\n",
    "    event, values= window.read()\n",
    "    if event is None:\n",
    "        break\n",
    "    sz_spin = int(values['spin'])\n",
    "    sz_slider = int(values['slider'])\n",
    "    sz = sz_spin if sz_spin != fontSize else sz_slider\n",
    "    if sz != fontSize:\n",
    "        fontSize = sz\n",
    "        font = \"Helvetica \"  + str(fontSize)\n",
    "        window.FindElement('text').Update(font=font)\n",
    "        window.FindElement('slider').Update(sz)\n",
    "        window.FindElement('spin').Update(sz)\n",
    "\n",
    "print(\"Done.\")"
   ]
  },
  {
   "cell_type": "code",
   "execution_count": null,
   "metadata": {
    "ExecuteTime": {
     "end_time": "2019-11-10T07:59:07.305933Z",
     "start_time": "2019-11-10T07:58:58.919278Z"
    }
   },
   "outputs": [],
   "source": [
    "import PySimpleGUI as sg\n",
    "\n",
    "sg.ChangeLookAndFeel('GreenTan')\n",
    "\n",
    "# ------ Menu Definition ------ #\n",
    "\n",
    "menu_def = [['&File', ['&Open::open_', '&Save', '---', 'Properties', 'E&xit'  ]],\n",
    "            ['&Edit', ['Paste', ['Special', 'Normal',], 'Undo'],],\n",
    "            ['&Help', '&About...'],]\n",
    "# ------ Column Definition ------ #\n",
    "column1 = [\n",
    "    [\n",
    "        sg.Text('Column 1',\n",
    "                background_color='lightblue',\n",
    "                justification='center',\n",
    "                size=(10, 1))\n",
    "    ], [sg.Spin(values=('Spin Box 1', '2', '3'), initial_value='Spin Box 1')],\n",
    "    [sg.Spin(values=('Spin Box 1', '2', '3'), initial_value='Spin Box 2')],\n",
    "    [sg.Spin(values=('Spin Box 1', '2', '3'), initial_value='Spin Box 3')]\n",
    "]\n",
    "\n",
    "layout = [\n",
    "    [sg.Menu(menu_def, )],\n",
    "    [\n",
    "        sg.Text('(Almost) All widgets in one Window!',\n",
    "                size=(30, 1),\n",
    "                justification='center',\n",
    "                font=(\"Helvetica\", 25),\n",
    "                relief=sg.RELIEF_RIDGE)\n",
    "    ], [sg.Text('Here is some text.... and a place to enter text')],\n",
    "    [sg.InputText('This is my text')],\n",
    "    [\n",
    "        sg.Frame(layout=[[\n",
    "            sg.Checkbox('Checkbox', size=(10, 1)),\n",
    "            sg.Checkbox('My second checkbox!', default=True)\n",
    "        ],\n",
    "                         [\n",
    "                             sg.Radio('My first Radio!     ',\n",
    "                                      \"RADIO1\",\n",
    "                                      default=True,\n",
    "                                      size=(10, 1)),\n",
    "                             sg.Radio('My second Radio!', \"RADIO1\")\n",
    "                         ]],\n",
    "                 title='Options',\n",
    "                 title_color='red',\n",
    "                 relief=sg.RELIEF_SUNKEN,\n",
    "                 tooltip='Use these to set flags')\n",
    "    ],\n",
    "    [\n",
    "        sg.Multiline(\n",
    "            default_text=\n",
    "            'This is the default Text should you decide not to type anything',\n",
    "            size=(35, 3)),\n",
    "        sg.Multiline(default_text='A second multi-line', size=(35, 3))\n",
    "    ],\n",
    "    [\n",
    "        sg.InputCombo(('Combobox 1', 'Combobox 2'), size=(20, 1)),\n",
    "        sg.Slider(range=(1, 100),\n",
    "                  orientation='h',\n",
    "                  size=(34, 20),\n",
    "                  default_value=85)\n",
    "    ],\n",
    "    [sg.InputOptionMenu(('Menu Option 1', 'Menu Option 2', 'Menu Option 3'))],\n",
    "    [\n",
    "        sg.Listbox(values=('Listbox 1', 'Listbox 2', 'Listbox 3'),\n",
    "                   size=(30, 3)),\n",
    "        sg.Frame('Labelled Group', [[\n",
    "            sg.Slider(range=(1, 100),\n",
    "                      orientation='v',\n",
    "                      size=(5, 20),\n",
    "                      default_value=25,\n",
    "                      tick_interval=25),\n",
    "            sg.Slider(range=(1, 100),\n",
    "                      orientation='v',\n",
    "                      size=(5, 20),\n",
    "                      default_value=75),\n",
    "            sg.Slider(range=(1, 100),\n",
    "                      orientation='v',\n",
    "                      size=(5, 20),\n",
    "                      default_value=10),\n",
    "            sg.Column(column1, background_color='lightblue')\n",
    "        ]])\n",
    "    ], [sg.Text('_' * 80)], [sg.Text('Choose A Folder', size=(35, 1))],\n",
    "    [\n",
    "        sg.Text('Your Folder',\n",
    "                size=(15, 1),\n",
    "                auto_size_text=False,\n",
    "                justification='right'),\n",
    "        sg.InputText('Default Folder'),\n",
    "        sg.FolderBrowse()\n",
    "    ], [sg.Submit(tooltip='Click to submit this form'),\n",
    "        sg.Cancel()]\n",
    "]\n",
    "\n",
    "window = sg.Window('Everything bagel',\n",
    "                   layout,\n",
    "                   default_element_size=(40, 1),\n",
    "                   grab_anywhere=False)\n",
    "while 1:\n",
    "    event, values = window.read()\n",
    "    if event == None:\n",
    "        window.Close()\n",
    "        break\n",
    "    print(event)\n",
    "#     sg.Popup('Title',\n",
    "#              'The results of the window.',\n",
    "#              'The button clicked was \"{}\"'.format(event),\n",
    "#              'The values are', values)"
   ]
  },
  {
   "cell_type": "code",
   "execution_count": null,
   "metadata": {},
   "outputs": [],
   "source": []
  },
  {
   "cell_type": "code",
   "execution_count": null,
   "metadata": {
    "ExecuteTime": {
     "end_time": "2019-11-10T08:06:02.076861Z",
     "start_time": "2019-11-10T08:05:24.115796Z"
    }
   },
   "outputs": [],
   "source": [
    "import PySimpleGUI as sg\n",
    "\n",
    "window = sg.Window('Testing the Debugger', [[sg.Text('Debugger Tester'), sg.In('Input here'), sg.B('Push Me')]])\n",
    "\n",
    "while True:\n",
    "    event, values = window.Read(timeout=500)\n",
    "    if event == sg.TIMEOUT_KEY:\n",
    "        continue\n",
    "    if event is None:\n",
    "        break\n",
    "    print(event, values)\n",
    "window.Close()"
   ]
  },
  {
   "cell_type": "markdown",
   "metadata": {},
   "source": [
    "## 读取后是否清空input框"
   ]
  },
  {
   "cell_type": "code",
   "execution_count": null,
   "metadata": {
    "ExecuteTime": {
     "end_time": "2019-11-10T07:02:27.993680Z",
     "start_time": "2019-11-10T07:02:22.314432Z"
    }
   },
   "outputs": [],
   "source": [
    "layout = [[sg.Text('Persistent window')],      \n",
    "          [sg.Input(do_not_clear=False)],      \n",
    "          [sg.Button('Read'), sg.Exit()]]      \n",
    "\n",
    "window = sg.Window('Window that stays open', layout)      \n",
    "\n",
    "while True:      \n",
    "    event, values = window.Read()      \n",
    "    if event is None or event == 'Exit':      \n",
    "        break      \n",
    "    print(event, values)    \n",
    "\n",
    "window.Close()"
   ]
  },
  {
   "cell_type": "code",
   "execution_count": null,
   "metadata": {
    "ExecuteTime": {
     "end_time": "2019-11-07T10:16:37.097750Z",
     "start_time": "2019-11-07T10:16:22.562870Z"
    }
   },
   "outputs": [],
   "source": [
    "layout = [[sg.Text('Your typed chars appear here:'), sg.Text('1'*20, key='OUTPUT',size=(20,1),auto_size_text=True)],\n",
    "          [sg.Input(do_not_clear=True, key='IN')],\n",
    "          [sg.Button('Show'), sg.Button('Exit')]]\n",
    "\n",
    "window = sg.Window('Window Title', layout)\n",
    "\n",
    "while True:                 # Event Loop\n",
    "    event, values = window.Read()\n",
    "    if event is None or event == 'Exit':\n",
    "        break\n",
    "    else:\n",
    "        print(event, values)\n",
    "    if event == 'Show':\n",
    "        # change the \"output\" element to be the value of \"input\" element\n",
    "        window.Element('OUTPUT').Update(values['IN'])\n",
    "\n",
    "window.Close()\n"
   ]
  },
  {
   "cell_type": "code",
   "execution_count": null,
   "metadata": {
    "ExecuteTime": {
     "end_time": "2019-11-07T10:12:25.354232Z",
     "start_time": "2019-11-07T10:12:20.573110Z"
    }
   },
   "outputs": [],
   "source": [
    "layout = [\n",
    "    [sg.Text('Please enter your Name, Address, Phone')],\n",
    "    [sg.Text('Name', size=(15, 1)), sg.InputText()],\n",
    "    [sg.Text('Address', size=(15, 1)), sg.InputText()],\n",
    "    [sg.Text('Phone', size=(15, 1)), sg.InputText(key='phone')],\n",
    "    [sg.Submit(), sg.Cancel()]\n",
    "]\n",
    "\n",
    "window = sg.Window('Simple data entry window', layout)\n",
    "event, values = window.Read()\n",
    "window.Close()\n",
    "print(event, values[0], values[1], values['phone'])"
   ]
  },
  {
   "cell_type": "code",
   "execution_count": null,
   "metadata": {
    "ExecuteTime": {
     "end_time": "2019-11-07T10:18:20.423125Z",
     "start_time": "2019-11-07T10:18:11.250627Z"
    }
   },
   "outputs": [],
   "source": [
    "\n",
    "layout = [\n",
    "    [sg.Text('Please enter your Name, Address, Phone')],\n",
    "    [sg.Text('Name', size=(15, 1)),\n",
    "     sg.InputText('Tom', key='_NAME_')],  # 设置默认值，并且改变 key\n",
    "    [sg.Text('Address', size=(15, 1)), sg.InputText(\n",
    "        'address', key='_ADDRESS_')],\n",
    "    [sg.Text('Phone', size=(15, 1)),\n",
    "     sg.InputText('phone', key='_PHONE_')],\n",
    "    [sg.Submit(), sg.Cancel()]\n",
    "]\n",
    "\n",
    "window = sg.Window('Simple data entry GUI', layout)\n",
    "while 1:\n",
    "    event, values = window.Read()\n",
    "    if event=='Cancel':break\n",
    "    print(event, values['_NAME_'], values['_ADDRESS_'], values['_PHONE_'])\n",
    "window.Close()\n"
   ]
  },
  {
   "cell_type": "code",
   "execution_count": null,
   "metadata": {
    "ExecuteTime": {
     "end_time": "2019-11-07T10:24:53.522979Z",
     "start_time": "2019-11-07T10:24:51.196435Z"
    }
   },
   "outputs": [],
   "source": [
    "layout = [[sg.Text('SHA-1 and SHA-256 Hashes for the file')],\n",
    "          [sg.InputText(), sg.FileBrowse()],\n",
    "          [sg.Submit(), sg.Cancel()]]\n",
    "\n",
    "window=sg.Window('File',layout)\n",
    "event,source_filename=window.read()\n",
    "window.Close()\n",
    "print(event, source_filename)"
   ]
  },
  {
   "cell_type": "code",
   "execution_count": null,
   "metadata": {
    "ExecuteTime": {
     "end_time": "2019-11-07T13:24:57.006195Z",
     "start_time": "2019-11-07T13:24:50.902263Z"
    }
   },
   "outputs": [],
   "source": [
    "import PySimpleGUI as sg\n",
    "import sys\n",
    "\n",
    "event, fname, = sg.Window('My Script').Layout(\n",
    "    [[sg.Text('Document to open')], [sg.In(), sg.FileBrowse()],\n",
    "     [sg.CloseButton('Open'), sg.CloseButton('Cancel')]]).Read()\n",
    "\n",
    "if not fname:\n",
    "    sg.Popup(\"Cancel\", \"No filename supplied\")\n",
    "    raise SystemExit(\"Cancelling: no filename supplied\")\n",
    "print(event, fname)"
   ]
  },
  {
   "cell_type": "code",
   "execution_count": null,
   "metadata": {
    "ExecuteTime": {
     "end_time": "2019-11-07T13:26:15.832481Z",
     "start_time": "2019-11-07T13:26:13.583384Z"
    }
   },
   "outputs": [],
   "source": [
    "layout = [[sg.Text('Enter 2 files to comare')],\n",
    "          [sg.Text('File 1', size=(8, 1)), sg.InputText(), sg.FileBrowse()],\n",
    "          [sg.Text('File 2', size=(8, 1)), sg.InputText(), sg.FileBrowse(key='y')],\n",
    "          [sg.Submit(), sg.Cancel()]]\n",
    "\n",
    "window = sg.Window('File Compare', layout)\n",
    "\n",
    "event, values = window.Read()\n",
    "window.Close()\n",
    "print(event, values)\n"
   ]
  },
  {
   "cell_type": "code",
   "execution_count": null,
   "metadata": {
    "ExecuteTime": {
     "end_time": "2019-11-07T13:37:33.818898Z",
     "start_time": "2019-11-07T13:37:30.520742Z"
    }
   },
   "outputs": [],
   "source": [
    "def window_op(title, layout):\n",
    "    window=sg.Window(title, layout)\n",
    "    event, values = window.Read()\n",
    "    window.Close()\n",
    "    return event, values\n",
    "layout = [[sg.Text('Row 1')],\n",
    "          [sg.Text('Row 2'), sg.Checkbox('Checkbox 1', sg.OK()), sg.Checkbox('Checkbox 2'), sg.OK()]]\n",
    "\n",
    "window_op('Title',layout)\n"
   ]
  },
  {
   "cell_type": "markdown",
   "metadata": {},
   "source": [
    "## 播放器"
   ]
  },
  {
   "cell_type": "code",
   "execution_count": null,
   "metadata": {
    "ExecuteTime": {
     "end_time": "2019-11-09T08:11:49.826421Z",
     "start_time": "2019-11-09T08:11:49.592302Z"
    }
   },
   "outputs": [],
   "source": [
    "import sys\n",
    "if sys.version_info[0] >= 3:\n",
    "    import PySimpleGUI as sg\n",
    "else:\n",
    "    import PySimpleGUI27 as sg\n",
    "\n",
    "#\n",
    "# An Async Demonstration of a media player\n",
    "# Uses button images for a super snazzy look\n",
    "# See how it looks here:\n",
    "# https://user-images.githubusercontent.com/13696193/43159403-45c9726e-8f50-11e8-9da0-0d272e20c579.jpg\n",
    "#\n",
    "\n",
    "\n",
    "def MediaPlayerGUI():\n",
    "    background = '#F0F0F0'\n",
    "    # Set the backgrounds the same as the background on the buttons\n",
    "    sg.SetOptions(background_color=background,\n",
    "                  element_background_color=background)\n",
    "    # Images are located in a subfolder in the Demo Media Player.py folder\n",
    "    image_pause = './ButtonGraphics/Pause.png'\n",
    "    image_restart = './ButtonGraphics/Restart.png'\n",
    "    image_next = './ButtonGraphics/Next.png'\n",
    "    image_exit = './ButtonGraphics/Exit.png'\n",
    "\n",
    "    # A text element that will be changed to display messages in the GUI\n",
    "\n",
    "    # define layout of the rows\n",
    "    layout = [[sg.Text('Media File Player', size=(17, 1), font=(\"Helvetica\", 25))],\n",
    "              [sg.Text('', size=(15, 2), font=(\"Helvetica\", 14), key='output')],\n",
    "              [sg.Button('', button_color=(background, background),\n",
    "                         image_filename=image_restart, image_size=(50, 50), image_subsample=2, border_width=0, key='Restart Song'),\n",
    "               sg.Text(' ' * 2),\n",
    "               sg.Button('', button_color=(background, background),\n",
    "                         image_filename=image_pause, image_size=(50, 50), image_subsample=2, border_width=0, key='Pause'),\n",
    "               sg.Text(' ' * 2),\n",
    "               sg.Button('', button_color=(background, background), image_filename=image_next, image_size=(\n",
    "                   50, 50), image_subsample=2, border_width=0, key='Next'),\n",
    "               sg.Text(' ' * 2),\n",
    "               sg.Text(' ' * 2), sg.Button('', button_color=(background, background),\n",
    "                                           image_filename=image_exit, image_size=(50, 50), image_subsample=2, border_width=0, key='Exit')],\n",
    "              [sg.Text('_'*20)],\n",
    "              [sg.Text(' '*30)],\n",
    "              [\n",
    "        sg.Slider(range=(-10, 10), default_value=0, size=(10, 20),\n",
    "                  orientation='vertical', font=(\"Helvetica\", 15)),\n",
    "        sg.Text(' ' * 2),\n",
    "        sg.Slider(range=(-10, 10), default_value=0, size=(10, 20),\n",
    "                  orientation='vertical', font=(\"Helvetica\", 15)),\n",
    "        sg.Text(' ' * 2),\n",
    "        sg.Slider(range=(-10, 10), default_value=0, size=(10, 20), orientation='vertical', font=(\"Helvetica\", 15))],\n",
    "        [sg.Text('   Bass', font=(\"Helvetica\", 15), size=(9, 1)),\n",
    "         sg.Text('Treble', font=(\"Helvetica\", 15), size=(7, 1)),\n",
    "         sg.Text('Volume', font=(\"Helvetica\", 15), size=(7, 1))]\n",
    "    ]\n",
    "\n",
    "    # Open a form, note that context manager can't be used generally speaking for async forms\n",
    "    window = sg.Window('Media File Player', layout, auto_size_text=True, default_element_size=(20, 1),\n",
    "                       font=(\"Helvetica\", 25))\n",
    "    # Our event loop\n",
    "    while(True):\n",
    "        event, values = window.Read(timeout=100)        # Poll every 100 ms\n",
    "        if event == 'Exit' or event is None:\n",
    "            break\n",
    "        # If a button was pressed, display it on the GUI by updating the text element\n",
    "        if event != sg.TIMEOUT_KEY:\n",
    "            window.Element('output').Update(event)\n",
    "\n",
    "\n",
    "MediaPlayerGUI()\n",
    "window.Close()   # Don't forget to close your window!\n"
   ]
  },
  {
   "cell_type": "markdown",
   "metadata": {},
   "source": [
    "## 自动更新"
   ]
  },
  {
   "cell_type": "code",
   "execution_count": null,
   "metadata": {
    "ExecuteTime": {
     "end_time": "2019-11-09T08:38:12.962483Z",
     "start_time": "2019-11-09T08:37:57.892208Z"
    }
   },
   "outputs": [],
   "source": [
    "import PySimpleGUI as sg\n",
    "\n",
    "layout = [  [sg.Text('Stopwatch', size=(20, 2), justification='center')],\n",
    "            [sg.Text('', size=(10, 2), font=('Helvetica', 20), justification='center', key='_OUTPUT_')],\n",
    "            [sg.T(' ' * 5), sg.Button('Start', focus=True), sg.Quit()]]\n",
    "\n",
    "window = sg.Window('Stopwatch Timer', layout)\n",
    "timer_running, i = True, 0\n",
    "while True:        # Event Loop\n",
    "    event, values = window.Read(timeout=10) # Please try and use as high of a timeout value as you can\n",
    "    if event is None or event == 'Quit':    # if user closed the window using X or clicked Quit button\n",
    "        window.close()\n",
    "        break\n",
    "        \n",
    "    elif event == 'Start':\n",
    "        timer_running = not timer_running\n",
    "        window.Element('Start').Update('Stop')\n",
    "    elif event=='Stop':\n",
    "        timer_running = not timer_running\n",
    "        window.Element('Stop').Update('Start')\n",
    "#         sg.Button()\n",
    "    if timer_running:\n",
    "        window.Element('_OUTPUT_').Update('{:02d}:{:02d}.{:02d}'.format((i // 100) // 60, (i // 100) % 60, i % 100))\n",
    "        i += 1"
   ]
  },
  {
   "cell_type": "markdown",
   "metadata": {},
   "source": [
    "## 只要按下按钮,read函数立即返回"
   ]
  },
  {
   "cell_type": "code",
   "execution_count": null,
   "metadata": {
    "ExecuteTime": {
     "end_time": "2019-11-09T09:27:04.071319Z",
     "start_time": "2019-11-09T09:26:56.160601Z"
    },
    "scrolled": true
   },
   "outputs": [],
   "source": [
    "import PySimpleGUI as sg      \n",
    "layout = [[sg.Text('Robotics Remote Control')],    \n",
    "    [sg.T(' '  * 10), sg.RealtimeButton('Forward')],      \n",
    "    [sg.RealtimeButton('Left'), sg.T(' '  * 15), sg.RealtimeButton('Right')],      \n",
    "    [sg.T(' '  * 10), sg.RealtimeButton('Reverse')],      \n",
    "    [sg.T('')],      \n",
    "    [sg.Quit(button_color=('black', 'orange'))]      \n",
    "    ]      \n",
    "\n",
    "window = sg.Window('Robotics Remote Control', layout, auto_size_text=True)    \n",
    "\n",
    "#      \n",
    "# Some place later in your code...      \n",
    "# You need to perform a Read or Refresh on your window every now and then or    \n",
    "# else it will appear your program has hung      \n",
    "#      \n",
    "# your program's main loop      \n",
    "while (True):      \n",
    "    # This is the code that reads and updates your window      \n",
    "    event, values = window.Read(timeout=1000,timeout_key='')      \n",
    "    if event:      \n",
    "        print(event)\n",
    "        sleep(0.09)\n",
    "    if event == 'Quit'  or values is None:      \n",
    "        break  \n",
    "#     break\n",
    "#     print(1)\n",
    "window.Close()   # Don't forget to close your window!      \n"
   ]
  },
  {
   "cell_type": "markdown",
   "metadata": {},
   "source": [
    "## 进度条"
   ]
  },
  {
   "cell_type": "markdown",
   "metadata": {},
   "source": [
    "### kind 0"
   ]
  },
  {
   "cell_type": "code",
   "execution_count": null,
   "metadata": {
    "ExecuteTime": {
     "end_time": "2019-11-09T09:09:31.076213Z",
     "start_time": "2019-11-09T09:09:29.837427Z"
    }
   },
   "outputs": [],
   "source": [
    "import PySimpleGUI as sg      \n",
    "for i in range(1000): \n",
    "    window=sg.OneLineProgressMeter('One Line Meter Example', i+1, 1000, 'x'*50)   "
   ]
  },
  {
   "cell_type": "code",
   "execution_count": null,
   "metadata": {
    "ExecuteTime": {
     "end_time": "2019-11-09T09:11:17.653666Z",
     "start_time": "2019-11-09T09:11:16.389310Z"
    }
   },
   "outputs": [],
   "source": [
    "sg.OneLineProgressMeter('One Line Meter Example', 1, 1000, key='x')  \n",
    "sleep(1)\n",
    "sg.OneLineProgressMeterCancel('x')"
   ]
  },
  {
   "cell_type": "code",
   "execution_count": null,
   "metadata": {},
   "outputs": [],
   "source": [
    "sg.OneLineProgressMeterCancel()\n",
    "sg.OneLineProgressMeter()"
   ]
  },
  {
   "cell_type": "markdown",
   "metadata": {},
   "source": [
    "### kind 1 -I love this kind"
   ]
  },
  {
   "cell_type": "code",
   "execution_count": null,
   "metadata": {
    "ExecuteTime": {
     "end_time": "2019-11-09T09:17:46.942301Z",
     "start_time": "2019-11-09T09:17:45.354576Z"
    }
   },
   "outputs": [],
   "source": [
    "import PySimpleGUI as sg\n",
    "\n",
    "# layout the Window\n",
    "layout = [[sg.Text('A custom progress meter')],\n",
    "          [sg.ProgressBar(1000, orientation='h', size=(20, 20), key='progbar')],\n",
    "          [sg.Cancel()]]\n",
    "\n",
    "# create the Window\n",
    "window = sg.Window('Custom Progress Meter', layout)\n",
    "# loop that would normally do something useful\n",
    "for i in range(1000):\n",
    "    # check to see if the cancel button was clicked and exit loop if clicked\n",
    "    event, values = window.Read(timeout=100)\n",
    "    if event == 'Cancel' or event is None:\n",
    "        break\n",
    "        # update bar with loop value +1 so that bar eventually reaches the maximum\n",
    "    window.Element('progbar').UpdateBar(i + 1)\n",
    "# done with loop... need to destroy the window as it's still open\n",
    "window.Close()"
   ]
  },
  {
   "cell_type": "code",
   "execution_count": null,
   "metadata": {
    "ExecuteTime": {
     "end_time": "2019-11-09T11:53:15.857161Z",
     "start_time": "2019-11-09T11:52:59.327893Z"
    }
   },
   "outputs": [],
   "source": [
    "import PySimpleGUI as sg\n",
    "\n",
    "# Demo of how columns work\n",
    "# GUI has on row 1 a vertical slider followed by a COLUMN with 7 rows\n",
    "# Prior to the Column element, this layout was not possible\n",
    "# Columns layouts look identical to GUI layouts, they are a list of lists of elements.\n",
    "\n",
    "sg.ChangeLookAndFeel('BlueMono')\n",
    "\n",
    "# Column layout\n",
    "col = [[sg.Text('col Row 1', text_color='white', background_color='blue')],\n",
    "       [\n",
    "           sg.Text('col Row 2', text_color='white', background_color='blue'),\n",
    "           sg.Input('col input 1')\n",
    "       ],\n",
    "       [\n",
    "           sg.Text('col Row 3', text_color='white', background_color='blue'),\n",
    "           sg.Input('col input 2')\n",
    "       ]]\n",
    "\n",
    "layout = [[\n",
    "    sg.Listbox(values=('Listbox Item 1', 'Listbox Item 2', 'Listbox Item 3'),\n",
    "               select_mode=sg.LISTBOX_SELECT_MODE_BROWSE,\n",
    "               size=(20, 3)),\n",
    "    sg.Column(col, background_color='blue')\n",
    "], [sg.Input('Last input')], [sg.OK()]]\n",
    "\n",
    "# Display the Window and get values\n",
    "window=sg.Window('Compact 1-line Window with column', layout)\n",
    "event, values = window.Read()\n",
    "sg.Popup(event, values, line_width=200)\n",
    "window.Close()"
   ]
  },
  {
   "cell_type": "markdown",
   "metadata": {},
   "source": [
    "## 实时计算器"
   ]
  },
  {
   "cell_type": "code",
   "execution_count": null,
   "metadata": {
    "ExecuteTime": {
     "end_time": "2019-11-09T11:43:41.415465Z",
     "start_time": "2019-11-09T11:43:36.873855Z"
    }
   },
   "outputs": [],
   "source": [
    "layout = [ [sg.Txt('Enter values to calculate')],      \n",
    "           [sg.In(size=(8,1), key='numerator')],      \n",
    "           [sg.Txt('_'  * 10)],      \n",
    "           [sg.In(size=(8,1), key='denominator')],      \n",
    "           [sg.Txt('', size=(8,1), key='output')  ],      \n",
    "           [sg.Button('Calculate', bind_return_key=True)]]\n",
    "\n",
    "window = sg.Window('Math', layout)\n",
    "\n",
    "while True:      \n",
    "    event, values = window.Read(timeout=10)\n",
    "\n",
    "    if event is not None:      \n",
    "        try:      \n",
    "            numerator = float(values['numerator'])      \n",
    "            denominator = float(values['denominator'])      \n",
    "            calc = numerator / denominator      \n",
    "        except:      \n",
    "            calc = 'Invalid'\n",
    "\n",
    "        window.Element('output').Update(calc)      \n",
    "    else:      \n",
    "        break"
   ]
  },
  {
   "cell_type": "markdown",
   "metadata": {},
   "source": [
    "## 滑动按钮"
   ]
  },
  {
   "cell_type": "code",
   "execution_count": null,
   "metadata": {
    "ExecuteTime": {
     "end_time": "2019-11-09T09:34:24.237243Z",
     "start_time": "2019-11-09T09:34:14.753398Z"
    }
   },
   "outputs": [],
   "source": [
    "import PySimpleGUI as sg  \n",
    "\n",
    "layout = [[sg.Text('Slider Demonstration'), sg.Text('', key='_OUTPUT_')],  \n",
    "            [sg.T('0'+' '*3,key='_LEFT_'),  \n",
    "             sg.Slider((1,10), key='_SLIDER_', orientation='h', enable_events=True, disable_number_display=True),  \n",
    "             sg.T('0'+' '*3, key='_RIGHT_')],  \n",
    "            [sg.Button('Show'), sg.Button('Exit')]]  \n",
    "\n",
    "window = sg.Window('Window Title', layout)  \n",
    "\n",
    "while True:             # Event Loop  \n",
    "    event, values = window.Read()  \n",
    "#     print(event, values)  \n",
    "    if event is None or event == 'Exit':  \n",
    "        break  \n",
    "    window.Element('_LEFT_').Update(values['_SLIDER_'])  \n",
    "    window.Element('_RIGHT_').Update(values['_SLIDER_'])  \n",
    "\n",
    "window.Close()"
   ]
  },
  {
   "cell_type": "markdown",
   "metadata": {},
   "source": [
    "## 多窗口"
   ]
  },
  {
   "cell_type": "code",
   "execution_count": null,
   "metadata": {
    "ExecuteTime": {
     "end_time": "2019-11-09T11:42:15.557257Z",
     "start_time": "2019-11-09T11:42:11.331267Z"
    }
   },
   "outputs": [],
   "source": [
    "import PySimpleGUI as sg  \n",
    "\n",
    "# Design pattern 1 - First window does not remain active  \n",
    "\n",
    "layout = [[ sg.Text('Window 1'),],  \n",
    "          [sg.Input(do_not_clear=True)],  \n",
    "          [sg.Text(' '*20, key='_OUTPUT_',auto_size_text=True)],  \n",
    "          [sg.Button('Launch 2')]]  \n",
    "\n",
    "win1 = sg.Window('Window 1', layout)  \n",
    "win2_active=False  \n",
    "while True:  \n",
    "    ev1, vals1 = win1.Read(timeout=100)  \n",
    "    if ev1 is None:  \n",
    "        break  \n",
    "    win1.Element('_OUTPUT_').Update(vals1[0])  \n",
    "\n",
    "    if ev1 == 'Launch 2'  and not win2_active:  \n",
    "        win2_active = True  \n",
    "        win1.Hide()  \n",
    "        layout2 = [[sg.Text('Window 2')],       # note must create a layout from scratch every time. No reuse  \n",
    "          [sg.Button('Exit')]]  \n",
    "\n",
    "        win2 = sg.Window('Window 2', layout2)  \n",
    "        while True:  \n",
    "            ev2, vals2 = win2.Read()  \n",
    "            if ev2 is None or ev2 == 'Exit':  \n",
    "                win2.Close()  \n",
    "                win2_active = False  \n",
    "                win1.UnHide()  \n",
    "                break"
   ]
  },
  {
   "cell_type": "code",
   "execution_count": null,
   "metadata": {
    "ExecuteTime": {
     "end_time": "2019-11-09T09:52:47.618858Z",
     "start_time": "2019-11-09T09:52:30.806323Z"
    }
   },
   "outputs": [],
   "source": [
    "layout = [[sg.Text('Enter Your Passcode')],      \n",
    "          [sg.Input(size=(10, 1), do_not_clear=True, justification='right', key='input')],      \n",
    "          [sg.Button('1'), sg.Button('2'), sg.Button('3')],      \n",
    "          [sg.Button('4'), sg.Button('5'), sg.Button('6')],      \n",
    "          [sg.Button('7'), sg.Button('8'), sg.Button('9')],      \n",
    "          [sg.Button('Submit'), sg.Button('0'), sg.Button('Clear')],      \n",
    "          [sg.Text('',  size=(15, 1),auto_size_text=True,font=('Helvetica', 18), text_color='red', key='out')],      \n",
    "          ]\n",
    "\n",
    "window = sg.Window('Keypad', layout, default_button_element_size=(5, 2), auto_size_buttons=False, grab_anywhere=True)\n",
    "\n",
    "# Loop forever reading the window's values, updating the Input field    \n",
    "keys_entered = ''      \n",
    "while True:      \n",
    "    event, values = window.Read()  # read the window    \n",
    "    if event is None:  # if the X button clicked, just exit      \n",
    "        break      \n",
    "    if event == 'Clear':  # clear keys if clear button      \n",
    "        keys_entered = ''      \n",
    "    elif event in '1234567890':      \n",
    "        keys_entered = values['input']  # get what's been entered so far      \n",
    "        keys_entered += event  # add the new digit      \n",
    "    elif event == 'Submit':      \n",
    "        keys_entered = values['input']      \n",
    "        window.Element('out').Update(keys_entered)  # output the final string\n",
    "\n",
    "    window.Element('input').Update(keys_entered) "
   ]
  },
  {
   "cell_type": "markdown",
   "metadata": {},
   "source": [
    "## sg.outpot 可以滚动换行"
   ]
  },
  {
   "cell_type": "code",
   "execution_count": null,
   "metadata": {
    "ExecuteTime": {
     "end_time": "2019-11-09T12:44:01.739039Z",
     "start_time": "2019-11-09T12:43:59.891156Z"
    }
   },
   "outputs": [],
   "source": [
    "import PySimpleGUI as sg\n",
    "import subprocess\n",
    "\n",
    "\n",
    "# Please check Demo programs for better examples of launchers\n",
    "def ExecuteCommandSubprocess(command, *args):\n",
    "    try:\n",
    "        sp = subprocess.Popen([command, *args],\n",
    "                              shell=True,\n",
    "                              stdout=subprocess.PIPE,\n",
    "                              stderr=subprocess.PIPE)\n",
    "        out, err = sp.communicate()\n",
    "        if out:\n",
    "            print(out.decode(\"utf-8\"))\n",
    "            print('Ying ~')\n",
    "        if err:\n",
    "            print(err.decode(\"utf-8\"))\n",
    "    except:\n",
    "        pass\n",
    "\n",
    "\n",
    "layout = [[sg.Text('Script output....', size=(40, 1))],\n",
    "          [sg.Output(size=(88, 20))],\n",
    "          [sg.Button('script1'),\n",
    "           sg.Button('script2'),\n",
    "           sg.Button('EXIT')],\n",
    "          [\n",
    "              sg.Text('Manual command', size=(15, 1)),\n",
    "              sg.InputText(focus=True),\n",
    "              sg.Button(\n",
    "                  'Run',\n",
    "                  bind_return_key=True,\n",
    "              )\n",
    "          ]]\n",
    "\n",
    "window = sg.Window('Script launcher', layout)\n",
    "\n",
    "\n",
    "# ---===--- Loop taking in user input and using it to call scripts --- #\n",
    "def f():\n",
    "    print('Haha')\n",
    "\n",
    "\n",
    "while True:\n",
    "    print('will not be in the Output model !'\n",
    "          )  # Must call window.Read() before print content,\n",
    "    # or the print_thing will transform to the stdout still\n",
    "    (event, value) = window.Read()\n",
    "    print('will in the Output model !')\n",
    "    if event == 'EXIT' or event is None:\n",
    "        break  # exit button clicked\n",
    "    if event == 'script1':\n",
    "        ExecuteCommandSubprocess('pip', 'list')\n",
    "    elif event == 'script2':\n",
    "        ExecuteCommandSubprocess('python --version')\n",
    "    elif event == 'Run':\n",
    "        ExecuteCommandSubprocess(value[0])\n",
    "    print('hahah')\n",
    "window.Close()"
   ]
  },
  {
   "cell_type": "markdown",
   "metadata": {},
   "source": [
    "## 将matsplotlib内嵌进来"
   ]
  },
  {
   "cell_type": "code",
   "execution_count": null,
   "metadata": {
    "ExecuteTime": {
     "end_time": "2019-11-09T12:18:17.061479Z",
     "start_time": "2019-11-09T12:18:08.947981Z"
    }
   },
   "outputs": [],
   "source": [
    "from tkinter import *\n",
    "from random import randint\n",
    "import PySimpleGUI as sg\n",
    "from matplotlib.backends.backend_tkagg import FigureCanvasTkAgg, FigureCanvasAgg\n",
    "from matplotlib.figure import Figure\n",
    "import matplotlib.backends.tkagg as tkagg\n",
    "import tkinter as Tk\n",
    "\n",
    "fig = Figure()\n",
    "\n",
    "ax = fig.add_subplot(111)\n",
    "ax.set_xlabel(\"X axis\")\n",
    "ax.set_ylabel(\"Y axis\")\n",
    "ax.grid()\n",
    "\n",
    "layout = [[sg.Text('Animated Matplotlib', size=(40, 1), justification='center', font='Helvetica 20')],\n",
    "          [sg.Canvas(size=(640, 480), key='canvas')],\n",
    "          [sg.Button('Exit', size=(10, 2), pad=((280, 0), 3), font='Helvetica 14')]]\n",
    "\n",
    "# create the window and show it without the plot    \n",
    "\n",
    "\n",
    "window = sg.Window('Demo Application - Embedding Matplotlib In PySimpleGUI', layout)\n",
    "window.Finalize()  # needed to access the canvas element prior to reading the window\n",
    "\n",
    "canvas_elem = window.Element('canvas')\n",
    "\n",
    "graph = FigureCanvasTkAgg(fig, master=canvas_elem.TKCanvas)\n",
    "canvas = canvas_elem.TKCanvas\n",
    "\n",
    "dpts = [randint(0, 10) for x in range(10000)]\n",
    "# Our event loop      \n",
    "for i in range(len(dpts)):\n",
    "    event, values = window.Read(timeout=100)\n",
    "    if event == 'Exit' or event is None:\n",
    "        exit(0)\n",
    "\n",
    "    ax.cla()\n",
    "    ax.grid()\n",
    "\n",
    "    ax.plot(range(20), dpts[i:i + 20], color='purple')\n",
    "    graph.draw()\n",
    "    figure_x, figure_y, figure_w, figure_h = fig.bbox.bounds\n",
    "    figure_w, figure_h = int(figure_w), int(figure_h)\n",
    "    photo = Tk.PhotoImage(master=canvas, width=figure_w, height=figure_h)\n",
    "\n",
    "    canvas.create_image(640 / 2, 480 / 2, image=photo)\n",
    "\n",
    "    figure_canvas_agg = FigureCanvasAgg(fig)\n",
    "    figure_canvas_agg.draw()\n",
    "\n",
    "    tkagg.blit(photo, figure_canvas_agg.get_renderer()._renderer, colormode=2)      "
   ]
  },
  {
   "cell_type": "markdown",
   "metadata": {},
   "source": [
    "## 按钮可以disable, sg可以设置padding=0"
   ]
  },
  {
   "cell_type": "code",
   "execution_count": null,
   "metadata": {
    "ExecuteTime": {
     "end_time": "2019-11-11T02:25:33.055103Z",
     "start_time": "2019-11-11T02:25:13.757362Z"
    },
    "scrolled": true
   },
   "outputs": [],
   "source": [
    "import PySimpleGUI as sg\n",
    "\"\"\"      \n",
    "Demonstrates using a \"tight\" layout with a Dark theme.      \n",
    "Shows how button states can be controlled by a user application.  The program manages the disabled/enabled      \n",
    "states for buttons and changes the text color to show greyed-out (disabled) buttons      \n",
    "\"\"\"\n",
    "\n",
    "# sg.ChangeLookAndFeel('Dark')\n",
    "sg.SetOptions(element_padding=(0, 0))\n",
    "\n",
    "layout = [[\n",
    "    sg.T('User:', pad=((0, 0), 0)),\n",
    "    sg.OptionMenu(values=('User 1', 'User 2'), size=(20, 1)),\n",
    "    sg.T('0', size=(8, 1))\n",
    "],\n",
    "          [\n",
    "              sg.T('Customer:', pad=((3, 0), 0)),\n",
    "              sg.OptionMenu(values=('Customer 1', 'Customer 2'), size=(20, 1)),\n",
    "              sg.T('1', size=(8, 1))\n",
    "          ],\n",
    "          [\n",
    "              sg.T('Notes:', pad=((3, 0), 0)),\n",
    "              sg.In(size=(44, 1), background_color='white', text_color='black')\n",
    "          ],\n",
    "          [\n",
    "              sg.Button('Start', button_color=('white', 'black'), key='Start'),\n",
    "              sg.Button('Stop', button_color=('white', 'black'), key='Stop'),\n",
    "              sg.Button('Reset',\n",
    "                        button_color=('white', 'firebrick3'),\n",
    "                        key='Reset'),\n",
    "              sg.Button('Submit',\n",
    "                        button_color=('white', 'springgreen4'),\n",
    "                        key='Submit')\n",
    "          ]]\n",
    "\n",
    "window = sg.Window(\"Time Tracker\",\n",
    "                   layout,\n",
    "                   default_element_size=(12, 1),\n",
    "                   text_justification='r',\n",
    "                   auto_size_text=False,\n",
    "                   auto_size_buttons=False,\n",
    "                   default_button_element_size=(12, 1))\n",
    "window.Finalize()\n",
    "window.Element('Stop').Update(disabled=True)\n",
    "window.Element('Reset').Update(disabled=True)\n",
    "window.Element('Submit').Update(disabled=True)\n",
    "recording = have_data = False\n",
    "while True:\n",
    "    event, values = window.Read()\n",
    "    print(event)\n",
    "    if event == None:\n",
    "        break\n",
    "    if event == 'Start':\n",
    "        window.Element('Start').Update(disabled=True)\n",
    "        window.Element('Stop').Update(disabled=False)\n",
    "        window.Element('Reset').Update(disabled=False)\n",
    "        window.Element('Submit').Update(disabled=True)\n",
    "        recording = True\n",
    "    elif event == 'Stop' and recording:\n",
    "        window.Element('Stop').Update(disabled=True)\n",
    "        window.Element('Start').Update(disabled=False)\n",
    "        window.Element('Submit').Update(disabled=False)\n",
    "        recording = False\n",
    "        have_data = True\n",
    "    elif event == 'Reset':\n",
    "        window.Element('Stop').Update(disabled=True)\n",
    "        window.Element('Start').Update(disabled=False)\n",
    "        window.Element('Submit').Update(disabled=True)\n",
    "        window.Element('Reset').Update(disabled=False)\n",
    "        recording = False\n",
    "        have_data = False\n",
    "    elif event == 'Submit' and have_data:\n",
    "        window.Element('Stop').Update(disabled=True)\n",
    "        window.Element('Start').Update(disabled=False)\n",
    "        window.Element('Submit').Update(disabled=True)\n",
    "        window.Element('Reset').Update(disabled=False)\n",
    "        recording = False\n",
    "window.Close()"
   ]
  },
  {
   "cell_type": "markdown",
   "metadata": {},
   "source": [
    "## 设置密码样式 password_char='*' "
   ]
  },
  {
   "cell_type": "code",
   "execution_count": null,
   "metadata": {
    "ExecuteTime": {
     "end_time": "2019-11-09T13:06:33.111926Z",
     "start_time": "2019-11-09T13:06:31.767685Z"
    },
    "scrolled": false
   },
   "outputs": [],
   "source": [
    "import PySimpleGUI as sg\n",
    "import hashlib\n",
    "'''      \n",
    "     Create a secure login for your scripts without having to include your password    in the program.  Create an SHA1 hash code for your password using the GUI. Paste into variable in final program      \n",
    "     1. Choose a password      \n",
    "     2. Generate a hash code for your chosen password by running program and entering 'gui' as the password      \n",
    "     3. Type password into the GUI      \n",
    "     4. Copy and paste hash code Window GUI into variable named login_password_hash    \n",
    "     5. Run program again and test your login!      \n",
    "'''\n",
    "\n",
    "\n",
    "# Use this GUI to get your password's hash code\n",
    "def HashGeneratorGUI():\n",
    "    layout = [\n",
    "        [sg.T('Password Hash Generator', size=(30, 1), font='Any 15')],\n",
    "        [sg.T('Password'), sg.In(key='password')],\n",
    "        [sg.T('SHA Hash'),\n",
    "         sg.In('', size=(40, 1), key='hash')],\n",
    "    ]\n",
    "\n",
    "    window = sg.Window('SHA Generator',\n",
    "                       layout,\n",
    "                       auto_size_text=False,\n",
    "                       default_element_size=(10, 1),\n",
    "                       text_justification='r',\n",
    "                       return_keyboard_events=True,\n",
    "                       grab_anywhere=False)\n",
    "\n",
    "    while True:\n",
    "        event, values = window.Read()\n",
    "        if event is None:\n",
    "            break\n",
    "\n",
    "        password = values['password']\n",
    "        try:\n",
    "            password_utf = password.encode('utf-8')\n",
    "            sha1hash = hashlib.sha1()\n",
    "            sha1hash.update(password_utf)\n",
    "            password_hash = sha1hash.hexdigest()\n",
    "            window.Element('hash').Update(password_hash)\n",
    "        except:\n",
    "            pass\n",
    "\n",
    "\n",
    "# ----------------------------- Paste this code into your program / script -----------------------------\n",
    "# determine if a password matches the secret password by comparing SHA1 hash codes\n",
    "def PasswordMatches(password, hash):\n",
    "    password_utf = password.encode('utf-8')\n",
    "    sha1hash = hashlib.sha1()\n",
    "    sha1hash.update(password_utf)\n",
    "    password_hash = sha1hash.hexdigest()\n",
    "    if password_hash == hash:\n",
    "        return True\n",
    "    else:\n",
    "        return False\n",
    "\n",
    "\n",
    "login_password_hash = '5baa61e4c9b93f3f0682250b6cf8331b7ee68fd8'\n",
    "password = sg.PopupGetText('Password', password_char='*')\n",
    "if password == 'gui':  # Remove when pasting into your program\n",
    "    HashGeneratorGUI()  # Remove when pasting into your program\n",
    "    exit(69)  # Remove when pasting into your program\n",
    "if PasswordMatches(password, login_password_hash):\n",
    "    print('Login SUCCESSFUL')\n",
    "else:\n",
    "    print('Login FAILED!!')"
   ]
  },
  {
   "cell_type": "markdown",
   "metadata": {},
   "source": [
    "## 设置不要最大化,最小化等toolbar,设置初始化位置(location参数)"
   ]
  },
  {
   "cell_type": "code",
   "execution_count": null,
   "metadata": {
    "ExecuteTime": {
     "end_time": "2019-11-10T10:33:19.920693Z",
     "start_time": "2019-11-10T10:33:17.327111Z"
    }
   },
   "outputs": [],
   "source": [
    "import PySimpleGUI as sg      \n",
    "import subprocess      \n",
    "import os      \n",
    "import sys  \n",
    "from mymodule.dialy import while_exec\n",
    "\n",
    "\"\"\"      \n",
    " Demo_Toolbar - A floating toolbar with quick launcher     One cool PySimpleGUI demo. Shows borderless windows, grab_anywhere, tight button layout      \n",
    " You can setup a specific program to launch when a button is clicked, or use the Combobox to select a .py file found in the root folder, and run that file.  \"\"\"      \n",
    "\n",
    "ROOT_PATH = './'      \n",
    "\n",
    "def Launcher():      \n",
    "\n",
    "    def print(line):      \n",
    "        window.Element('output').Update(line)      \n",
    "\n",
    "    sg.ChangeLookAndFeel('Dark')      \n",
    "\n",
    "    namesonly = [f for f in os.listdir(ROOT_PATH) if f.endswith('.py') ]      \n",
    "\n",
    "    sg.SetOptions(element_padding=(0,0), button_element_size=(12,1), auto_size_buttons=False)      \n",
    "    layout =  [[sg.Combo(values=namesonly, size=(35,30), key='demofile'),      \n",
    "                sg.Button('Run', button_color=('white', '#00168B')),      \n",
    "                sg.Button('Program 1'),      \n",
    "                sg.Button('Program 2'),      \n",
    "                sg.Button('Program 3', button_color=('white', '#35008B')),      \n",
    "                sg.Button('EXIT', button_color=('white','firebrick3'))],      \n",
    "                [sg.T('', text_color='white', size=(50,1), key='output')]]      \n",
    "\n",
    "    window = sg.Window('Floating Toolbar', layout, no_titlebar=True, keep_on_top=True,location=(0,0))\n",
    "    # ---===--- Loop taking in user input (events) --- #      \n",
    "    while True:      \n",
    "        (event, value) = window.Read()      \n",
    "        if event ==  'EXIT'  or event is None:     \n",
    "            window.Close()\n",
    "            break # exit button clicked      \n",
    "        if event ==  'Program 1':      \n",
    "            print('Run your program 1 here!')      \n",
    "        elif event ==  'Program 2':      \n",
    "            print('Run your program 2 here!')      \n",
    "        elif event ==  'Run':      \n",
    "            file = value['demofile']      \n",
    "            print('Launching %s'%file)      \n",
    "            ExecuteCommandSubprocess('python', os.path.join(ROOT_PATH, file))      \n",
    "        else:      \n",
    "            print(event)      \n",
    "\n",
    "def ExecuteCommandSubprocess(command, *args, wait=False):      \n",
    "    try:      \n",
    "        if sys.platwindow == 'linux':      \n",
    "            arg_string = ''      \n",
    "            for arg in args:      \n",
    "                 arg_string += ' '  + str(arg)      \n",
    "            sp = subprocess.Popen(['python3'  + arg_string, ], shell=True, stdout=subprocess.PIPE, stderr=subprocess.PIPE)      \n",
    "        else:      \n",
    "            sp = subprocess.Popen([command, list(args)], shell=True, stdout=subprocess.PIPE, stderr=subprocess.PIPE)      \n",
    "\n",
    "        if wait:      \n",
    "            out, err = sp.communicate()      \n",
    "            if out:      \n",
    "                print(out.decode(\"utf-8\"))      \n",
    "            if err:      \n",
    "                print(err.decode(\"utf-8\"))      \n",
    "    except: pass      \n",
    "\n",
    "\n",
    "\n",
    "if __name__ == '__main__':      \n",
    "    Launcher()  \n"
   ]
  },
  {
   "cell_type": "markdown",
   "metadata": {},
   "source": [
    "### cpu监控"
   ]
  },
  {
   "cell_type": "code",
   "execution_count": null,
   "metadata": {
    "ExecuteTime": {
     "end_time": "2019-11-09T14:43:29.333767Z",
     "start_time": "2019-11-09T14:36:53.185969Z"
    },
    "scrolled": true
   },
   "outputs": [],
   "source": [
    "import PySimpleGUI as sg\n",
    "import psutil\n",
    "from mymodule.mythread import myThread\n",
    "\n",
    "# ----------------  Create Window  ----------------\n",
    "sg.ChangeLookAndFeel('Black')\n",
    "layout = [[sg.Text('')],\n",
    "          [sg.Text('', size=(8, 2), font=('Helvetica', 20), justification='center', key='text')],\n",
    "          [sg.Exit(button_color=('white', 'firebrick4'), pad=((15, 0), 0)),\n",
    "           sg.Spin([x + 1 for x in range(10)], 1, key='spin')]]\n",
    "window = sg.Window('Running Timer', layout, no_titlebar=True, auto_size_buttons=False, keep_on_top=True,\n",
    "                   grab_anywhere=True)\n",
    "\n",
    "cpu_percent=0\n",
    "interval=1\n",
    "\n",
    "def get_cpu():\n",
    "    while 1:\n",
    "        global cpu_percent\n",
    "        cpu_percent = psutil.cpu_percent(interval=interval)\n",
    "\n",
    "myThread(get_cpu,[None],1)\n",
    "# ----------------  main loop  ----------------\n",
    "while (True):\n",
    "    # --------- Read and update window --------\n",
    "    event, values = window.Read(timeout=100)\n",
    "\n",
    "    # --------- Do Button Operations --------\n",
    "    if event is None or event == 'Exit':\n",
    "        break\n",
    "    global interval\n",
    "    try:\n",
    "        interval = int(values['spin'])\n",
    "    except:\n",
    "        interval = 1\n",
    "\n",
    "    # --------- Display timer in window --------\n",
    "\n",
    "    window.Element('text').Update(f'CPU {cpu_percent:02.0f}%')\n",
    "\n",
    "# Broke out of main loop. Close the window.\n",
    "window.Close()"
   ]
  },
  {
   "cell_type": "markdown",
   "metadata": {},
   "source": [
    "## 菜单栏"
   ]
  },
  {
   "cell_type": "code",
   "execution_count": null,
   "metadata": {
    "ExecuteTime": {
     "end_time": "2019-11-10T07:35:55.301723Z",
     "start_time": "2019-11-10T07:35:51.679828Z"
    },
    "code_folding": []
   },
   "outputs": [],
   "source": [
    "import PySimpleGUI as sg      \n",
    "\n",
    "sg.ChangeLookAndFeel('LightGreen')      \n",
    "sg.SetOptions(element_padding=(0, 0))      \n",
    "\n",
    "# ------ Menu Definition ------ #      \n",
    "menu_def = [['File', ['Open', 'Save', 'Exit'  ]],      \n",
    "            ['Edit', ['Paste', ['Special',['special','not_s'], 'Normal', ], 'Undo',['undo']], ],      \n",
    "            ['Help', 'About...'], ]      \n",
    "\n",
    "# ------ GUI Defintion ------ #      \n",
    "layout = [      \n",
    "    [sg.Menu(menu_def, )],      \n",
    "    [sg.Output(size=(60, 20),)]      \n",
    "         ]      \n",
    "\n",
    "window = sg.Window(\"Windows-like program\", layout, default_element_size=(12, 1), auto_size_text=False, auto_size_buttons=False,      \n",
    "                   default_button_element_size=(12, 1))      \n",
    "\n",
    "# ------ Loop & Process button menu choices ------ #      \n",
    "while True:      \n",
    "    event, values = window.Read()      \n",
    "    if event == None or event == 'Exit':      \n",
    "        break      \n",
    "    print('Button = ', event)      \n",
    "    # ------ Process menu choices ------ #      \n",
    "    if event == 'About...':      \n",
    "        sg.Popup('About this program', 'Version 1.0', 'PySimpleGUI rocks...')      \n",
    "    elif event == 'Open':      \n",
    "        filename = sg.PopupGetFile('file to open', no_window=True)      \n",
    "        print(filename)   \n"
   ]
  },
  {
   "cell_type": "markdown",
   "metadata": {},
   "source": [
    "### 1. &指定快捷键,!表示暂时不可选,::会改变event而不改变显示  2.右键菜单"
   ]
  },
  {
   "cell_type": "code",
   "execution_count": null,
   "metadata": {
    "ExecuteTime": {
     "end_time": "2019-11-10T07:46:19.879994Z",
     "start_time": "2019-11-10T07:45:55.177963Z"
    }
   },
   "outputs": [],
   "source": [
    "import PySimpleGUI as sg\n",
    "\n",
    "# Recipe for getting keys, one at a time as they are released\n",
    "# If want to use the space bar, then be sure and disable the \"default focus\"\n",
    "\n",
    "text_elem = sg.Text(\"\",\n",
    "                    size=(18, 1),\n",
    "                    right_click_menu=[\n",
    "                        '&Right',\n",
    "                        ['Right', '!&Click', '&Menu::fuck', 'E&xit', 'Properties']\n",
    "                    ])\n",
    "\n",
    "layout = [[sg.Text(\"Press a key or scroll mouse\")], [text_elem],\n",
    "          [sg.Button(\"OK\", )]]\n",
    "\n",
    "window = sg.Window(\"Keyboard Test\",\n",
    "                   layout,\n",
    "                   return_keyboard_events=True,\n",
    "                   use_default_focus=False)\n",
    "\n",
    "# ---===--- Loop taking in user input --- #\n",
    "while True:\n",
    "    event, value = window.read()\n",
    "    print(event, \"exiting\")\n",
    "    if event == \"OK\" or event is None:\n",
    "        break\n",
    "    text_elem.Update(event)\n"
   ]
  },
  {
   "cell_type": "markdown",
   "metadata": {},
   "source": [
    "## 绘图"
   ]
  },
  {
   "cell_type": "code",
   "execution_count": null,
   "metadata": {
    "ExecuteTime": {
     "end_time": "2019-11-10T14:22:36.428706Z",
     "start_time": "2019-11-10T14:22:31.758507Z"
    }
   },
   "outputs": [],
   "source": [
    "import math\n",
    "import PySimpleGUI as sg\n",
    "\n",
    "layout = [\n",
    "    [\n",
    "        sg.Graph(canvas_size=(400, 400),\n",
    "                 graph_bottom_left=(-105, -105),\n",
    "                 graph_top_right=(105, 105),\n",
    "                 background_color='white',\n",
    "                 key='graph',\n",
    "                 tooltip='This is a cool graph!')\n",
    "    ],\n",
    "    [sg.Text('123'*10,key='123')]\n",
    "    \n",
    "]\n",
    "\n",
    "window = sg.Window('Graph of Sine Function', layout,\n",
    "                   grab_anywhere=True).Finalize()\n",
    "graph = window.Element('graph')\n",
    "\n",
    "# Draw axis\n",
    "graph.DrawLine((-100, 0), (100, 0))\n",
    "graph.DrawLine((0, -100), (0, 100))\n",
    "\n",
    "for x in range(-100, 101, 20):\n",
    "    graph.DrawLine((x, -3), (x, 3))\n",
    "    if x != 0:\n",
    "        graph.DrawText(x, (x, -10), color='green')\n",
    "\n",
    "for y in range(-100, 101, 20):\n",
    "    graph.DrawLine((-3, y), (3, y))\n",
    "    if y != 0:\n",
    "        graph.DrawText(y, (-10, y), color='blue')\n",
    "\n",
    "# Draw Graph\n",
    "for x in range(-100, 100):\n",
    "    y = math.sin(x / 20) * 50\n",
    "    graph.DrawCircle((x, y), 1, line_color='red', fill_color='red')\n",
    "\n",
    "e=window.Elem('the_elem').Widget\n",
    "e.place(x=0,y=20)\n",
    "\n",
    "event, values = window.Read()\n"
   ]
  },
  {
   "cell_type": "code",
   "execution_count": null,
   "metadata": {
    "ExecuteTime": {
     "end_time": "2019-11-10T14:15:15.919558Z",
     "start_time": "2019-11-10T14:15:15.913622Z"
    }
   },
   "outputs": [],
   "source": [
    "a=window['123'].Widget"
   ]
  },
  {
   "cell_type": "code",
   "execution_count": null,
   "metadata": {},
   "outputs": [],
   "source": [
    "a.place_forget()"
   ]
  },
  {
   "cell_type": "code",
   "execution_count": null,
   "metadata": {
    "ExecuteTime": {
     "end_time": "2019-11-09T16:02:21.263527Z",
     "start_time": "2019-11-09T16:02:18.398006Z"
    }
   },
   "outputs": [],
   "source": [
    "import PySimpleGUI as sg\n",
    "\n",
    "tab1_layout = [[sg.T('This is inside tab 1')]]\n",
    "\n",
    "tab2_layout = [[sg.T('This is inside tab 2')], [sg.In(key='in')]]\n",
    "\n",
    "layout = [[\n",
    "    sg.TabGroup([[\n",
    "        sg.Tab('Tab 1', tab1_layout, tooltip='tip0'),\n",
    "        sg.Tab('Tab 2', tab2_layout, tooltip='tip1')\n",
    "    ]],\n",
    "    tooltip='TIP_total')\n",
    "], [sg.Button('Read')]]\n",
    "\n",
    "window = sg.Window('My window with tabs', layout, default_element_size=(12, 1))\n",
    "\n",
    "while True:\n",
    "    event, values = window.Read()\n",
    "    print(event, values)\n",
    "    if event is None:  # always,  always give a way out!\n",
    "        break"
   ]
  },
  {
   "cell_type": "markdown",
   "metadata": {},
   "source": [
    "## 元素绑定事件"
   ]
  },
  {
   "cell_type": "code",
   "execution_count": null,
   "metadata": {
    "ExecuteTime": {
     "end_time": "2019-11-11T16:54:11.448348Z",
     "start_time": "2019-11-11T16:53:48.416675Z"
    }
   },
   "outputs": [],
   "source": [
    "import PySimpleGUI as sg\n",
    "import tkinter as tk\n",
    "layout = [  [sg.Text('My Window',key='110')],\n",
    "            [sg.Input(key='-IN-'), sg.Text('', key='-OUT-')],\n",
    "            [sg.Button('Do Something',), sg.Button('Right Click Me')],\n",
    "            [sg.Button('-RIGHT-', visible=False)],\n",
    "            [sg.Button('double', visible=False)]\n",
    "            ]\n",
    "\n",
    "window = sg.Window('Window Title', layout, finalize=True)\n",
    "\n",
    "window['Right Click Me'].Widget.bind(\"<Button-3>\", window['-RIGHT-'].ButtonReboundCallback)\n",
    "window['110'].Widget.bind(\"<B1-Motion>\", window['double'].ButtonReboundCallback)\n",
    "\n",
    "# window['Right Click Me'].Widget.place(x=0,y=-20,anchor=tk.NW)\n",
    "\n",
    "has_focus = True\n",
    "while True:             # Event Loop\n",
    "    \n",
    "    event, values = window.read()\n",
    "    \n",
    "    print(event, values)\n",
    "    if event in (None, 'Exit'):\n",
    "        break\n",
    "#     elif event=='double':\n",
    "#         while 1:\n",
    "#             try:\n",
    "#                 input_=input('>>> ')\n",
    "#                 if input_=='b':break\n",
    "#                 else:exec(input_)\n",
    "#             except:\n",
    "#                 print('Error')\n",
    "# window.close()"
   ]
  },
  {
   "cell_type": "markdown",
   "metadata": {},
   "source": [
    "# Come On!"
   ]
  },
  {
   "cell_type": "code",
   "execution_count": 1,
   "metadata": {
    "ExecuteTime": {
     "end_time": "2019-11-12T14:18:53.720708Z",
     "start_time": "2019-11-12T14:18:42.352952Z"
    },
    "code_folding": [
     36,
     42,
     48,
     57,
     102,
     104,
     119
    ],
    "scrolled": true
   },
   "outputs": [
    {
     "name": "stdout",
     "output_type": "stream",
     "text": [
      "move_l_t_up\n",
      "move_l_t_up\n",
      "move_l_t_up\n",
      "move_l_t_up\n",
      "move_l_t_up\n",
      "move_l_t_up\n",
      "move_l_t_up\n",
      "move_l_t_up\n"
     ]
    },
    {
     "data": {
      "text/plain": [
       "\" \\nprint(window.Elem('123').Widget.winfo_geometry()) #绝对位置\\nprint(window.current_location)\\n\\n\""
      ]
     },
     "execution_count": 1,
     "metadata": {},
     "output_type": "execute_result"
    }
   ],
   "source": [
    "# make fold\n",
    "import PySimpleGUI as sg\n",
    "from re import findall\n",
    "\n",
    "##chdir('')\n",
    "\n",
    "playing = 0\n",
    "highlight_label=None\n",
    "\n",
    "window_size=(1025,675)\n",
    "\n",
    "gray = '#F0F0F0'\n",
    "black_gray='#e8e9ec'\n",
    "background = '#ffffff'\n",
    "white = '#ffffff'\n",
    "background_toolbar = '#b73226'\n",
    "\n",
    "sg.SetOptions(background_color=white,\n",
    "              font=(\"Helvetica\", 9),\n",
    "              margins=(0,0),\n",
    "              element_background_color=white,\n",
    "              element_padding=((0,0),(0,0))\n",
    "             )\n",
    "\n",
    "# Images are located in a subfolder in the Demo Media Player.py folder\n",
    "image_pause = './icons/stop.png'\n",
    "image_start = './icons/start.png'\n",
    "image_next = './icons/next.png'\n",
    "image_forward = './icons/forward.png'\n",
    "image_undo = './icons/undo.png'\n",
    "image_redo = './icons/redo.png'\n",
    "image_change_theme = './icons/change_theme.png'\n",
    "image_setting = './icons/setting.png'\n",
    "image_min = './icons/min.png'\n",
    "image_max = './icons/max.png'\n",
    "image_close = './icons/close.png'\n",
    "image_search = './icons/afd.png' #'./icons/s.png'\n",
    "image_find = './icons/find.png'\n",
    "\n",
    "USE_MARK=1\n",
    "USE_SPETAER=1\n",
    "\n",
    "add_mian_panel=0  # only for test\n",
    "\n",
    "pad_palybar_left_toolbar=130\n",
    "pad_logo_undo=18\n",
    "pad_redo_search=2\n",
    "pad_search_theme=120\n",
    "pad_left_toolbar_text=7\n",
    "\n",
    "size_left_toolbar_text=(20,2)\n",
    "\n",
    "\n",
    "dict_recommend = {\n",
    "    'find': ('./icons/find.png', '发现音乐'),\n",
    "    'fm': ('./icons/fm.png', '私人FM'),\n",
    "    'mv': ('./icons/mv.png', 'MV'),\n",
    "    'friend': ('./icons/friend.png', '朋友'),\n",
    "}\n",
    "dict_my_music = {\n",
    "    'local': ('./icons/local_music.png', '本地音乐'),\n",
    "    'download': ('./icons/download.png', '下载管理'),\n",
    "    'cloud': ('./icons/cloud.png', '我的音乐云盘'),\n",
    "    'singer': ('./icons/singer.png', '我的歌手')\n",
    "}\n",
    "dict_maked_musiclist = {\n",
    "    'favorite': ('./icons/favorite.png', '我喜欢的音乐'),\n",
    "    'musiclist': ('./icons/music_list.png', '自定义歌单')\n",
    "}\n",
    "\n",
    "def get_playbar_location(button_h=50,pad=10):\n",
    "    c_l=window.current_location()\n",
    "    return (0, c_l[1]-button_h)\n",
    "# define the toolbar\n",
    "column_toolbar = [\n",
    "    [sg.Button('', image_filename='./icons/toolbar_logo.png',\n",
    "               button_color=(background_toolbar, background_toolbar),key='logo',\n",
    "               border_width=0,)] +[sg.Text(' ' * pad_logo_undo, background_color=background_toolbar)]+ [\n",
    "        sg.Button('',\n",
    "                  button_color=(background_toolbar, background_toolbar),\n",
    "                  image_filename=x,\n",
    "                  image_size=(20, 40),\n",
    "                  image_subsample=2,\n",
    "                  border_width=0,\n",
    "                  pad=((0, 0), (0, 0)),\n",
    "                  key=y)\n",
    "        for x, y in zip([image_undo, image_redo], ['undo', 'redo'])\n",
    "    ] +[sg.Text(' ' * pad_redo_search, background_color=background_toolbar)]+ [\n",
    "        sg.Input('search music here',\n",
    "                 text_color='white',\n",
    "                 size=(30, 1),\n",
    "                 key='search_text',\n",
    "                 background_color=background_toolbar)\n",
    "    ] + [\n",
    "        sg.Button('',\n",
    "                  button_color=(background_toolbar, background_toolbar),\n",
    "                  image_filename=image_search,\n",
    "                  image_size=(20, 20),\n",
    "                  image_subsample=3,\n",
    "                  border_width=0,\n",
    "                  pad=((0, 0), (0, 0)),\n",
    "                  key='search',\n",
    "                  bind_return_key=True)\n",
    "    ] + [sg.Text(' ' * pad_search_theme, background_color=background_toolbar)] + [\n",
    "        sg.Button('',\n",
    "                  button_color=(background_toolbar, background_toolbar),\n",
    "                  image_filename=x,\n",
    "                  image_size=(30, 30),\n",
    "                  image_subsample=1,\n",
    "                  border_width=0,\n",
    "                  pad=((0, 0), (0, 0)),\n",
    "                  key=y) for x, y in zip([\n",
    "                      image_change_theme, image_setting, image_min, image_max,\n",
    "                      image_close\n",
    "                  ], ['change_theme', 'setting', 'min', 'max', 'close'])\n",
    "    ]\n",
    "]\n",
    "\n",
    "# define the left toolbar\n",
    "column_left_toolbar = [[\n",
    "    sg.Text('推荐',  background_color=white, pad=((0,0),(1,1)),key='recommand')\n",
    "]] + [[\n",
    "    sg.Column([[\n",
    "        sg.Button('',\n",
    "                  button_color=(white, white),\n",
    "                  image_filename=x,\n",
    "                  image_size=(30, 30),\n",
    "                  image_subsample=1,\n",
    "                  border_width=0,\n",
    "                  pad=((12, 0), 1),\n",
    "                  key=y),\n",
    "        sg.Text(z,  enable_events=True,size=size_left_toolbar_text,\n",
    "                key=y + '_text',pad=((0,0),(pad_left_toolbar_text,0)))\n",
    "    ]],\n",
    "              key=y + '_column',\n",
    "              pad=((0, 0), (0, 0)),\n",
    "              size=(200, 34)\n",
    "    )\n",
    "] for y, (x, z) in dict_recommend.items()] + [[\n",
    "    sg.Text('我的音乐',  background_color=white, pad=((0,0),(1,1)), key='mymusic')\n",
    "]] + [[\n",
    "    sg.Column([[\n",
    "        sg.Button('',\n",
    "                  button_color=(white, white),\n",
    "                  image_filename=x,\n",
    "                  \n",
    "                  image_size=(30, 30),\n",
    "                  image_subsample=1,\n",
    "                  border_width=0,\n",
    "                  pad=((0, 0), 1),\n",
    "                  key=y),\n",
    "        sg.Text(z,  enable_events=True,size=size_left_toolbar_text,\n",
    "                key=y + '_text',pad=((0,0),(pad_left_toolbar_text,0)))\n",
    "    ]],\n",
    "              key=y + '_column',\n",
    "              pad=(12, 0),\n",
    "              size=(200, 34)\n",
    "    )\n",
    "] for y, (x, z) in dict_my_music.items()] + [[\n",
    "    sg.Text('创建的歌单',  background_color=white, pad=((0,0),(1,1)), key='createdmusiclist')\n",
    "]] + [[\n",
    "    sg.Column([[\n",
    "        sg.Button('',\n",
    "                  button_color=(white, white),\n",
    "                  image_filename=x,\n",
    "                  image_size=(30, 30),\n",
    "                  image_subsample=1,\n",
    "                  border_width=0,\n",
    "                  pad=((0, 0), 1),\n",
    "                  key=y),\n",
    "        sg.Text(z,  enable_events=True,size=size_left_toolbar_text,\n",
    "                key=y + '_text',pad=((0,0),(pad_left_toolbar_text,0)))\n",
    "    ]],\n",
    "              key=y + '_column',\n",
    "              pad=(12, 0),\n",
    "              size=(200, 34)\n",
    "    )\n",
    "] for y, (x, z) in dict_maked_musiclist.items()]\n",
    "\n",
    "\n",
    "# define the main panel\n",
    "\n",
    "pad_main_panel_board_text=30\n",
    "pad_main_panel_middle_text=5\n",
    "\n",
    "dict_m_p_text={'personal_rcmd':'个性推荐','musiclist_m_p':'歌单',\n",
    "               'anchor_radio':'主播电台','leader_board':'排行榜','lastest_music':'最新音乐'}\n",
    "column_main_panel=[\n",
    "    [sg.Text(v,key=k) for k,v in dict_m_p_text.items()],\n",
    "    [sg.Image('./icons/avatar.png',size=(300,50))],\n",
    "    [sg.Text('推荐歌单',key='rcmd_music_list')],\n",
    "    [sg.Image('./icons/avatar.png',size=(300,50))],\n",
    "]\n",
    "\n",
    "# define the playbar\n",
    "column_playbar = [\n",
    "    [sg.Button('move_l_t_down',visible=False),sg.Button('move_l_t_up',visible=False),]+\n",
    "    [sg.Image('./icons/avatar.png',size=(50,50),pad=((0,0),(0,0))),\n",
    "     sg.Column([[sg.Text('琵琶行',key='music_name',),sg.Image('./icons/favorite.png',key='love_or_no')],\n",
    "                [sg.Text('奇然/沈谧仁',key='author',),sg.Image('./icons/share.png',key='share')]])],\n",
    "    [\n",
    "      sg.Button('',\n",
    "                button_color=(background, background),\n",
    "                image_filename=image_forward,\n",
    "                image_size=(50, 50),\n",
    "                image_subsample=1,\n",
    "                border_width=0,\n",
    "                key='forward'),\n",
    "        \n",
    "      sg.Button('',\n",
    "                button_color=(background, background),\n",
    "                image_filename=image_start,\n",
    "                image_size=(30, 30),\n",
    "                image_subsample=1,\n",
    "                border_width=0,\n",
    "                size=((50,50)),\n",
    "                key='start_or_stop'),\n",
    "        \n",
    "      sg.Button('',\n",
    "                button_color=(background, background),\n",
    "                image_filename=image_next,\n",
    "                image_size=(50, 50),\n",
    "                image_subsample=1,\n",
    "                border_width=0,\n",
    "                key='next'),\n",
    "          ]]\n",
    "\n",
    "\n",
    "layout = [\n",
    "    [\n",
    "        sg.Column(\n",
    "            column_toolbar,\n",
    "            background_color=background_toolbar,\n",
    "            size=(1100, 50),\n",
    "            pad=((0,0),(0,0)),\n",
    "            key='toolbar'\n",
    "        )\n",
    "    ],\n",
    "    [sg.Column(column_left_toolbar, background_color=white,\n",
    "               key='left_toolbar',)]+\n",
    "     ([sg.Text(' ',key='sperater',background_color=gray,font=(\"Helvetica\", 1))] if USE_SPETAER else [])+\n",
    "      ([sg.Text(' ',background_color=background_toolbar,\n",
    "                key='mark_text',font=(\"Helvetica\", 1))] if USE_MARK else []) \n",
    "    +([sg.Column(column_main_panel)] if add_mian_panel else []) ,\n",
    "    \n",
    "    [sg.Column(\n",
    "        column_playbar,\n",
    "        background_color=white,\n",
    "        key='playbar',\n",
    "        pad=((0,0),(pad_palybar_left_toolbar,0))\n",
    "    )],\n",
    "]\n",
    "\n",
    "# generate the window\n",
    "\n",
    "window = sg.Window(\n",
    "    'Media File Player',\n",
    "    layout,\n",
    "    auto_size_text=True,\n",
    "#     font=(\"Helvetica\", 25),\n",
    "    size=window_size,\n",
    "    no_titlebar=False,\n",
    "    margins=(0,0),\n",
    "    resizable=True,\n",
    "    finalize=True\n",
    ")  #default_element_size=(20, 1),\n",
    "\n",
    "def get_elem_size_and_posi(e,refresh=0,window=window):\n",
    "    if refresh: window.Finalize()\n",
    "    return [int (x) for x in findall('\\d+',window.Elem(e).Widget.winfo_geometry())]\n",
    "\n",
    "g=get_elem_size_and_posi\n",
    "\n",
    "def place(e,x,y,refresh=0):\n",
    "    if refresh: window.Finalize()\n",
    "    window.Elem(e).Widget.place(x=x,y=y)\n",
    "\n",
    "\n",
    "def ready_to_get_all_thing(Column,all_thing,pattern=['Text','Button'],):\n",
    "    if type(Column)==list:\n",
    "        for x in Column:\n",
    "            ready_to_get_all_thing(x,all_thing,pattern)\n",
    "    elif 'Column' in str(Column) :\n",
    "        if 'Column' in pattern:all_thing.append(Column)\n",
    "        for x in Column.Rows:\n",
    "            ready_to_get_all_thing(x,all_thing,pattern)\n",
    "    else:\n",
    "        for x in pattern:\n",
    "            if x in str(Column):\n",
    "#                 print(Column)\n",
    "                all_thing.append(Column)\n",
    "                break\n",
    "#     print(Column)\n",
    "                \n",
    "def get_all_elem(Column,pattern=['Text','Button'],total=0):\n",
    "    all_thing=[]\n",
    "    ready_to_get_all_thing(Column,all_thing,pattern)\n",
    "    return [x for x in all_thing if x.Key not in ['recommand','mymusic','createdmusiclist']] if total==0 else [x for x in all_thing if x.Key]\n",
    "\n",
    "def get_correct_x(event):\n",
    "    index=all_short_key_in_left_toolbar.index(event)\n",
    "    return 23*(1+index//4) + 33*index\n",
    "\n",
    "def move_left_toolbar(direction='down',step=10,):\n",
    "    place('left_toolbar',0, -g('left_toolbar')[3] + step*(1 if direction=='down' else -1))\n",
    "    \n",
    "# update size and position\n",
    "# window.Elem('123').Widget.place(x=100,y=20)\n",
    "# input('Continue...')\n",
    "# window.Elem('toolbar').Update(visible=False)\n",
    "# window.Finalize()\n",
    "# window.Elem('toolbar').Update(visible=True)\n",
    "\n",
    "# input('Continue...')\n",
    "\n",
    "size_of_left_toolbar=get_elem_size_and_posi('left_toolbar')\n",
    "\n",
    "# mark_text=\n",
    "all_key_in_left_toolbar=[ x.Key for x in get_all_elem(window.Elem('left_toolbar'))]\n",
    "all_short_key_in_left_toolbar=[x for x in all_key_in_left_toolbar if '_' not in x]\n",
    "\n",
    "def init():\n",
    "    if USE_SPETAER: \n",
    "        window.Elem('sperater').set_size((5,size_of_left_toolbar[1]))\n",
    "        place('sperater',g('sperater')[2]-40,0)\n",
    "        \n",
    "    if USE_MARK: \n",
    "        window.Elem('mark_text').set_size((1,10))\n",
    "        place('mark_text',-3,get_correct_x('find'))\n",
    "        window.Elem('mark_text').set_size((1,10))\n",
    "        \n",
    "    window.Elem('start_or_stop').Update(image_filename=image_start,)\n",
    "    window['start_or_stop'].set_size((50,50))\n",
    "    \n",
    "    window['search_text'].Widget.config(insertbackground=white)\n",
    "    \n",
    "#     window['find_column'].Widget.bind(\"<Button-4>\", window['search'].ButtonReboundCallback)\n",
    "#     window['left_toolbar'].Widget.bind(\"<Button-4>\", window['search'].ButtonReboundCallback)\n",
    "\n",
    "    for x in get_all_elem(window['left_toolbar'],pattern=['Text', 'Button', 'Column'],total=1):\n",
    "        x.Widget.bind(\"<Button-4>\", window['move_l_t_down'].ButtonReboundCallback)\n",
    "        x.Widget.bind(\"<Button-5>\", window['move_l_t_up'].ButtonReboundCallback)\n",
    "        \n",
    "#         x.expand((True,True),)\n",
    "#         if 'Text' in  str(x):\n",
    "#             place(x.Key,g(x.Key)[2],0)\n",
    "    \n",
    "    \n",
    "    \n",
    "    \n",
    "init()\n",
    "\n",
    "# print(all_short_key_in_left_toolbar)\n",
    "# assert  0\n",
    "# Our event loop\n",
    "\n",
    "while (True):\n",
    "    event, values = window.Read()  # Poll every 100 ms\n",
    "    if event in ('close', 'Exit', None):\n",
    "#         print(window.size)\n",
    "        break\n",
    "    elif event == 'start_or_stop':\n",
    "        if playing:\n",
    "            window.Elem('start_or_stop').Update(\n",
    "                image_filename=image_start,\n",
    "            )\n",
    "        else:\n",
    "            window.Elem('start_or_stop').Update(\n",
    "                image_filename=image_pause,\n",
    "            )\n",
    "        playing = not playing\n",
    "        window['start_or_stop'].set_size((50,50))\n",
    "        \n",
    "    elif event == 'logo':\n",
    "#         e = window.Elem('cloud_column')\n",
    "#         print(e.get_size())\n",
    "        while 1:\n",
    "            try:\n",
    "                input_ = input('>>> ')\n",
    "                if input_ == 'b': break\n",
    "                else: \n",
    "                    exec(input_)\n",
    "                    window.Finalize()\n",
    "                    window.refresh()\n",
    "            except Exception as e :\n",
    "                print(e)\n",
    "                \n",
    "    elif event in all_key_in_left_toolbar:\n",
    "        if highlight_label:\n",
    "            window.Elem(highlight_label).Update(button_color=(white,white))\n",
    "            window.Elem(highlight_label+'_text').Update(background_color=white)\n",
    "        short_key=event.split('_')[0]\n",
    "        window.Elem(short_key).Update(button_color=(black_gray,black_gray))\n",
    "        window.Elem(short_key+'_text').Update(background_color=black_gray)\n",
    "        \n",
    "        window.Elem(short_key+'_column').Widget.configure(background=background_toolbar)\n",
    "        if USE_MARK: place('mark_text',-3,get_correct_x(short_key))\n",
    "        highlight_label=short_key\n",
    "    elif event == 'min':\n",
    "        window.minimize()\n",
    "    \n",
    "    elif event in ['move_l_t_down', 'move_l_t_up']:\n",
    "        move_left_toolbar(event.split('_')[-1], )\n",
    "        \n",
    "    if event != sg.TIMEOUT_KEY:\n",
    "        print(event)\n",
    "        window.Element('recommand').Update(event)\n",
    "        \n",
    "window.Close()\n",
    "\n",
    "''' \n",
    "print(window.Elem('123').Widget.winfo_geometry()) #绝对位置\n",
    "print(window.current_location)\n",
    "\n",
    "'''\n"
   ]
  },
  {
   "cell_type": "markdown",
   "metadata": {},
   "source": [
    "## Come on "
   ]
  },
  {
   "cell_type": "code",
   "execution_count": null,
   "metadata": {
    "ExecuteTime": {
     "end_time": "2019-11-12T09:06:51.626069Z",
     "start_time": "2019-11-12T09:06:51.586175Z"
    }
   },
   "outputs": [],
   "source": [
    "sg.Text('',margins=(0,0))"
   ]
  },
  {
   "cell_type": "code",
   "execution_count": null,
   "metadata": {
    "ExecuteTime": {
     "end_time": "2019-11-12T09:15:02.623834Z",
     "start_time": "2019-11-12T09:15:02.616944Z"
    }
   },
   "outputs": [],
   "source": [
    "bb=window['left_toolbar']\n",
    "cc=window['find_text']"
   ]
  },
  {
   "cell_type": "code",
   "execution_count": null,
   "metadata": {},
   "outputs": [],
   "source": [
    "bb.Widget.config"
   ]
  },
  {
   "cell_type": "code",
   "execution_count": null,
   "metadata": {
    "ExecuteTime": {
     "end_time": "2019-11-12T03:59:24.727923Z",
     "start_time": "2019-11-12T03:59:24.718078Z"
    }
   },
   "outputs": [],
   "source": [
    "bb.Widget.configure(background='blue')"
   ]
  },
  {
   "cell_type": "markdown",
   "metadata": {},
   "source": [
    "## scroll bug"
   ]
  },
  {
   "cell_type": "code",
   "execution_count": null,
   "metadata": {
    "ExecuteTime": {
     "end_time": "2019-11-11T16:39:44.727024Z",
     "start_time": "2019-11-11T16:39:42.753968Z"
    }
   },
   "outputs": [],
   "source": [
    "import PySimpleGUI as sg\n",
    "\n",
    "# Recipe for getting keys, one at a time as they are released\n",
    "# If want to use the space bar, then be sure and disable the \"default focus\"\n",
    "\n",
    "text_elem = sg.Text(\"\", size=(18, 1))\n",
    "\n",
    "layout = [[sg.Text(\"Press a key or scroll mouse\")],\n",
    "          [text_elem],\n",
    "          [sg.Button(\"OK\")]]\n",
    "\n",
    "window = sg.Window(\"Keyboard Test\", layout,  return_keyboard_events=True, use_default_focus=False)\n",
    "\n",
    "# ---===--- Loop taking in user input --- #\n",
    "while True:\n",
    "    event, value = window.read()\n",
    "\n",
    "    if event == \"OK\" or event is None:\n",
    "        print(event, \"exiting\")\n",
    "        break\n",
    "    text_elem.Update(event)"
   ]
  },
  {
   "cell_type": "code",
   "execution_count": null,
   "metadata": {
    "ExecuteTime": {
     "end_time": "2019-11-11T17:04:37.178036Z",
     "start_time": "2019-11-11T17:04:37.171939Z"
    }
   },
   "outputs": [],
   "source": [
    "bb=window['left_toolbar']"
   ]
  },
  {
   "cell_type": "code",
   "execution_count": null,
   "metadata": {},
   "outputs": [],
   "source": [
    "bb.add_row()"
   ]
  },
  {
   "cell_type": "markdown",
   "metadata": {},
   "source": [
    "## get mouse location real time"
   ]
  },
  {
   "cell_type": "code",
   "execution_count": null,
   "metadata": {
    "ExecuteTime": {
     "end_time": "2019-11-11T15:26:06.832934Z",
     "start_time": "2019-11-11T15:25:48.139252Z"
    }
   },
   "outputs": [],
   "source": [
    "import os,time\n",
    "import pyautogui as pag\n",
    "while True:\n",
    "    x,y = pag.position() #返回鼠标的坐标\n",
    "    print(x,y)\n",
    "    time.sleep(1)"
   ]
  },
  {
   "cell_type": "code",
   "execution_count": null,
   "metadata": {
    "ExecuteTime": {
     "end_time": "2019-11-11T14:26:05.702058Z",
     "start_time": "2019-11-11T14:26:05.695930Z"
    }
   },
   "outputs": [],
   "source": [
    "a=window.Elem('toolbar')"
   ]
  },
  {
   "cell_type": "code",
   "execution_count": null,
   "metadata": {
    "ExecuteTime": {
     "end_time": "2019-11-11T13:15:30.026249Z",
     "start_time": "2019-11-11T13:15:30.015974Z"
    }
   },
   "outputs": [],
   "source": [
    "a.Update(visible=False)"
   ]
  },
  {
   "cell_type": "code",
   "execution_count": null,
   "metadata": {
    "ExecuteTime": {
     "end_time": "2019-11-11T13:11:33.752035Z",
     "start_time": "2019-11-11T13:11:33.746668Z"
    }
   },
   "outputs": [],
   "source": [
    "bb=window.Elem('find')"
   ]
  },
  {
   "cell_type": "code",
   "execution_count": null,
   "metadata": {
    "ExecuteTime": {
     "end_time": "2019-11-11T13:12:05.106455Z",
     "start_time": "2019-11-11T13:11:59.865789Z"
    }
   },
   "outputs": [],
   "source": [
    "bb=window.Elem('find');get_elem_size_and_posi(bb)"
   ]
  },
  {
   "cell_type": "code",
   "execution_count": null,
   "metadata": {
    "ExecuteTime": {
     "end_time": "2019-11-11T12:27:52.435946Z",
     "start_time": "2019-11-11T12:27:52.419532Z"
    },
    "code_folding": [
     9
    ]
   },
   "outputs": [],
   "source": [
    "def ready_to_get_all_thing(Column,all_thing,pattern=['Text','Button'],):\n",
    "    if type(Column)==list:\n",
    "        for x in Column:\n",
    "            ready_to_get_all_thing(x,all_thing,pattern)\n",
    "    elif 'Column' in str(Column) :\n",
    "        for x in Column.Rows:\n",
    "            ready_to_get_all_thing(x,all_thing,pattern)\n",
    "    else:\n",
    "        for x in pattern:\n",
    "            if x in str(Column):\n",
    "#                 print(Column)\n",
    "                all_thing.append(Column)\n",
    "                break\n",
    "#     print(Column)\n",
    "                \n",
    "    \n",
    "\n",
    "def get_all_elem(Column,pattern=['Text','Button']):\n",
    "    all_thing=[]\n",
    "    ready_to_get_all_thing(Column,all_thing,pattern)\n",
    "    return [x for x in all_thing if x.Key]\n"
   ]
  },
  {
   "cell_type": "markdown",
   "metadata": {},
   "source": [
    "## transform picture from jpg to png"
   ]
  },
  {
   "cell_type": "code",
   "execution_count": null,
   "metadata": {
    "ExecuteTime": {
     "end_time": "2019-11-12T06:44:17.709635Z",
     "start_time": "2019-11-12T06:44:17.687137Z"
    }
   },
   "outputs": [],
   "source": [
    "from PIL import Image\n",
    "\n",
    "def change(fname, resize=None,trasform=0):\n",
    "    img=Image.open(fname)\n",
    "    if trasform:\n",
    "        name=fname.split('.png')[0]\n",
    "        img.save(name+'.png')\n",
    "    if resize:\n",
    "        \n",
    "        img=img.resize(resize)\n",
    "        img.save(fname)\n"
   ]
  },
  {
   "cell_type": "code",
   "execution_count": null,
   "metadata": {
    "ExecuteTime": {
     "end_time": "2019-11-12T02:31:43.795380Z",
     "start_time": "2019-11-12T02:31:43.763271Z"
    }
   },
   "outputs": [],
   "source": [
    "change('avatar.png',(30,30))"
   ]
  },
  {
   "cell_type": "code",
   "execution_count": null,
   "metadata": {
    "ExecuteTime": {
     "end_time": "2019-11-12T06:44:25.487556Z",
     "start_time": "2019-11-12T06:44:25.455545Z"
    }
   },
   "outputs": [],
   "source": [
    "for x in [image_undo, image_redo, ]:\n",
    "    print('...')\n",
    "    change(x,(30,40))"
   ]
  },
  {
   "cell_type": "markdown",
   "metadata": {},
   "source": [
    "## 淡入淡出"
   ]
  },
  {
   "cell_type": "code",
   "execution_count": null,
   "metadata": {
    "ExecuteTime": {
     "end_time": "2019-11-12T10:44:17.827851Z",
     "start_time": "2019-11-12T10:44:09.929133Z"
    }
   },
   "outputs": [],
   "source": [
    "import PySimpleGUI as sg\n",
    "import textwrap\n",
    "import time\n",
    "from multiprocessing import Process\n",
    "from threading import Thread\n",
    "\n",
    "'''\n",
    "    Notification Window Demo Program\n",
    "    Shamelessly stolen from PySimpleGUI user ncotrb\n",
    "\n",
    "    Displays a small informational window with an Icon and a message in the lower right corner of the display\n",
    "    Option to fade in/out or immediatealy display.\n",
    "'''\n",
    "\n",
    "\n",
    "# -------------------------------------------------------------------\n",
    "# fade in/out info and default window alpha\n",
    "USE_FADE_IN = True\n",
    "WINDOW_ALPHA = 0.9\n",
    "WIN_MARGIN = 60\n",
    "\n",
    "# colors\n",
    "WIN_COLOR = \"#282828\"\n",
    "TEXT_COLOR = \"#ffffff\"\n",
    "\n",
    "DEFAULT_DISPLAY_DURATION_IN_MILLISECONDS = 10000\n",
    "\n",
    "# Base64 Images to use as icons in the window\n",
    "image64_error = b'iVBORw0KGgoAAAANSUhEUgAAACAAAAAgCAMAAABEpIrGAAAAA3NCSVQICAjb4U/gAAAACXBIWXMAAADlAAAA5QGP5Zs8AAAAGXRFWHRTb2Z0d2FyZQB3d3cuaW5rc2NhcGUub3Jnm+48GgAAAIpQTFRF////20lt30Bg30pg4FJc409g4FBe4E9f4U9f4U9g4U9f4E9g31Bf4E9f4E9f4E9f4E9f4E9f4FFh4Vdm4lhn42Bv5GNx5W575nJ/6HqH6HyI6YCM6YGM6YGN6oaR8Kev9MPI9cbM9snO9s3R+Nfb+dzg+d/i++vt/O7v/fb3/vj5//z8//7+////KofnuQAAABF0Uk5TAAcIGBktSYSXmMHI2uPy8/XVqDFbAAAA8UlEQVQ4y4VT15LCMBBTQkgPYem9d9D//x4P2I7vILN68kj2WtsAhyDO8rKuyzyLA3wjSnvi0Eujf3KY9OUP+kno651CvlB0Gr1byQ9UXff+py5SmRhhIS0oPj4SaUUCAJHxP9+tLb/ezU0uEYDUsCc+l5/T8smTIVMgsPXZkvepiMj0Tm5txQLENu7gSF7HIuMreRxYNkbmHI0u5Hk4PJOXkSMz5I3nyY08HMjbpOFylF5WswdJPmYeVaL28968yNfGZ2r9gvqFalJNUy2UWmq1Wa7di/3Kxl3tF1671YHRR04dWn3s9cXRV09f3vb1fwPD7z9j1WgeRgAAAABJRU5ErkJggg=='\n",
    "image64_success = b'iVBORw0KGgoAAAANSUhEUgAAACAAAAAgCAMAAABEpIrGAAAAA3NCSVQICAjb4U/gAAAACXBIWXMAAAEKAAABCgEWpLzLAAAAGXRFWHRTb2Z0d2FyZQB3d3cuaW5rc2NhcGUub3Jnm+48GgAAAHJQTFRF////ZsxmbbZJYL9gZrtVar9VZsJcbMRYaMZVasFYaL9XbMFbasRZaMFZacRXa8NYasFaasJaasFZasJaasNZasNYasJYasJZasJZasJZasJZasJZasJYasJZasJZasJZasJZasJaasJZasJZasJZasJZ2IAizQAAACV0Uk5TAAUHCA8YGRobHSwtPEJJUVtghJeYrbDByNjZ2tvj6vLz9fb3/CyrN0oAAADnSURBVDjLjZPbWoUgFIQnbNPBIgNKiwwo5v1fsQvMvUXI5oqPf4DFOgCrhLKjC8GNVgnsJY3nKm9kgTsduVHU3SU/TdxpOp15P7OiuV/PVzk5L3d0ExuachyaTWkAkLFtiBKAqZHPh/yuAYSv8R7XE0l6AVXnwBNJUsE2+GMOzWL8k3OEW7a/q5wOIS9e7t5qnGExvF5Bvlc4w/LEM4Abt+d0S5BpAHD7seMcf7+ZHfclp10TlYZc2y2nOqc6OwruxUWx0rDjNJtyp6HkUW4bJn0VWdf/a7nDpj1u++PBOR694+Ftj/8PKNdnDLn/V8YAAAAASUVORK5CYII='\n",
    "\n",
    "\n",
    "\n",
    "# -------------------------------------------------------------------\n",
    "\n",
    "def _display_notification(title, message, icon=image64_success, display_duration_in_ms=DEFAULT_DISPLAY_DURATION_IN_MILLISECONDS, use_fade_in=True, alpha=0.9, location=None):\n",
    "    print('In the proc!!')\n",
    "    # Compute location and size of the window\n",
    "    message = textwrap.fill(message, 50)\n",
    "    win_msg_lines = message.count(\"\\n\") + 1\n",
    "\n",
    "    screen_res_x, screen_res_y = sg.Window.get_screen_size()\n",
    "    win_margin = WIN_MARGIN  # distance from screen edges\n",
    "    win_width, win_height = 364, 66 + (14.8 * win_msg_lines)\n",
    "\n",
    "    layout = [[sg.Graph(canvas_size=(win_width, win_height), graph_bottom_left=(0, win_height), graph_top_right=(win_width, 0), key=\"-GRAPH-\", background_color=WIN_COLOR, enable_events=True)]]\n",
    "\n",
    "    win_location = location if location is not None else (screen_res_x - win_width - win_margin, screen_res_y - win_height - win_margin)\n",
    "    window = sg.Window(title, layout, background_color=WIN_COLOR, no_titlebar=True,\n",
    "                       location=win_location, keep_on_top=True, alpha_channel=0, margins=(0,0), element_padding=(0,0),\n",
    "                       finalize=True)\n",
    "\n",
    "    window[\"-GRAPH-\"].draw_rectangle((win_width, win_height), (-win_width, -win_height), fill_color=WIN_COLOR, line_color=WIN_COLOR)\n",
    "    window[\"-GRAPH-\"].draw_image(data=icon, location=(20, 20))\n",
    "    window[\"-GRAPH-\"].draw_text(title, location=(64, 20), color=TEXT_COLOR, font=(\"Arial\", 12, \"bold\"), text_location=sg.TEXT_LOCATION_TOP_LEFT)\n",
    "    window[\"-GRAPH-\"].draw_text(message, location=(64, 44), color=TEXT_COLOR, font=(\"Arial\", 9), text_location=sg.TEXT_LOCATION_TOP_LEFT)\n",
    "\n",
    "    window[\"-GRAPH-\"].Widget.config(cursor=\"hand2\")\n",
    "\n",
    "    if use_fade_in == True:\n",
    "        for i in range(1,int(alpha*100)):          # fade in\n",
    "            window.set_alpha(i/100)\n",
    "            window.refresh()\n",
    "            time.sleep(.02)\n",
    "        event, values = window(timeout=display_duration_in_ms)\n",
    "        for i in range(int(alpha*100),1,-1):       # fade out\n",
    "            window.set_alpha(i/100)\n",
    "            window.refresh()\n",
    "            time.sleep(.02)\n",
    "    else:\n",
    "        window.set_alpha(alpha)\n",
    "        event, values = window(timeout=display_duration_in_ms)\n",
    "    print('Exiting the notification process')\n",
    "\n",
    "\n",
    "def the_thread(title, message, icon=image64_success, display_duration_in_ms=DEFAULT_DISPLAY_DURATION_IN_MILLISECONDS, use_fade_in=True, alpha=0.9, location=None):\n",
    "    proc = Process(target=_display_notification, args=(title, message, icon,display_duration_in_ms, use_fade_in, alpha, location),)\n",
    "    proc.run()\n",
    "\n",
    "def display_notification(title, message, icon=image64_success, display_duration_in_ms=DEFAULT_DISPLAY_DURATION_IN_MILLISECONDS, use_fade_in=True, alpha=0.9, location=None):\n",
    "    print('In display notification')\n",
    "\n",
    "    # Thread(target=the_thread, args=(title, message, icon,display_duration_in_ms, use_fade_in, alpha, location), daemon=True).start()\n",
    "\n",
    "    proc = Process(target=_display_notification, args=(title, message, icon,display_duration_in_ms, use_fade_in, alpha, location),daemon=True )\n",
    "    proc.run()\n",
    "    print('Done starting notification process')\n",
    "    print('Back from start')\n",
    "    # proc.join()\n",
    "\n",
    "if __name__ == '__main__':\n",
    "    title = \"Action completed successfully\"\n",
    "    message = \"This message is intended to inform you that the action you have performed has been successful. There is no need for further action.\"\n",
    "    display_notification(title, message, image64_error, 4000, True)"
   ]
  }
 ],
 "metadata": {
  "kernelspec": {
   "display_name": "Python 3",
   "language": "python",
   "name": "python3"
  },
  "language_info": {
   "codemirror_mode": {
    "name": "ipython",
    "version": 3
   },
   "file_extension": ".py",
   "mimetype": "text/x-python",
   "name": "python",
   "nbconvert_exporter": "python",
   "pygments_lexer": "ipython3",
   "version": "3.7.4"
  },
  "toc": {
   "base_numbering": 1,
   "nav_menu": {},
   "number_sections": true,
   "sideBar": true,
   "skip_h1_title": false,
   "title_cell": "Table of Contents",
   "title_sidebar": "Contents",
   "toc_cell": false,
   "toc_position": {
    "height": "452px",
    "left": "48px",
    "top": "111.133px",
    "width": "266.2px"
   },
   "toc_section_display": true,
   "toc_window_display": false
  }
 },
 "nbformat": 4,
 "nbformat_minor": 2
}
